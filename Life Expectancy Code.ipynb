{
  "cells": [
    {
      "cell_type": "markdown",
      "source": [
        "Life Expectancy Data is a dataset that contains life expectancy, health, immunization, economic, and demographic information. The purpose in this analysis is to build a model that can predict the life expectancy using the given information"
      ],
      "metadata": {
        "id": "VPurZyNVJ4XK"
      },
      "id": "VPurZyNVJ4XK"
    },
    {
      "cell_type": "code",
      "execution_count": 1,
      "id": "066b6749",
      "metadata": {
        "id": "066b6749"
      },
      "outputs": [],
      "source": [
        "import numpy as np\n",
        "import pandas as pd\n",
        "import matplotlib.pyplot as plt"
      ]
    },
    {
      "cell_type": "markdown",
      "source": [
        "### Load Data"
      ],
      "metadata": {
        "id": "8csUKe1iJIx-"
      },
      "id": "8csUKe1iJIx-"
    },
    {
      "cell_type": "code",
      "source": [
        "from google.colab import files\n",
        "\n",
        "\n",
        "uploaded = files.upload()"
      ],
      "metadata": {
        "colab": {
          "base_uri": "https://localhost:8080/",
          "height": 73
        },
        "id": "wd1aPU3JhwE6",
        "outputId": "3ff32b5f-6873-47e2-8474-4b60646023b0"
      },
      "id": "wd1aPU3JhwE6",
      "execution_count": 2,
      "outputs": [
        {
          "output_type": "display_data",
          "data": {
            "text/plain": [
              "<IPython.core.display.HTML object>"
            ],
            "text/html": [
              "\n",
              "     <input type=\"file\" id=\"files-c51ee8a1-e3bb-4f3b-9b9b-285100927a9e\" name=\"files[]\" multiple disabled\n",
              "        style=\"border:none\" />\n",
              "     <output id=\"result-c51ee8a1-e3bb-4f3b-9b9b-285100927a9e\">\n",
              "      Upload widget is only available when the cell has been executed in the\n",
              "      current browser session. Please rerun this cell to enable.\n",
              "      </output>\n",
              "      <script>// Copyright 2017 Google LLC\n",
              "//\n",
              "// Licensed under the Apache License, Version 2.0 (the \"License\");\n",
              "// you may not use this file except in compliance with the License.\n",
              "// You may obtain a copy of the License at\n",
              "//\n",
              "//      http://www.apache.org/licenses/LICENSE-2.0\n",
              "//\n",
              "// Unless required by applicable law or agreed to in writing, software\n",
              "// distributed under the License is distributed on an \"AS IS\" BASIS,\n",
              "// WITHOUT WARRANTIES OR CONDITIONS OF ANY KIND, either express or implied.\n",
              "// See the License for the specific language governing permissions and\n",
              "// limitations under the License.\n",
              "\n",
              "/**\n",
              " * @fileoverview Helpers for google.colab Python module.\n",
              " */\n",
              "(function(scope) {\n",
              "function span(text, styleAttributes = {}) {\n",
              "  const element = document.createElement('span');\n",
              "  element.textContent = text;\n",
              "  for (const key of Object.keys(styleAttributes)) {\n",
              "    element.style[key] = styleAttributes[key];\n",
              "  }\n",
              "  return element;\n",
              "}\n",
              "\n",
              "// Max number of bytes which will be uploaded at a time.\n",
              "const MAX_PAYLOAD_SIZE = 100 * 1024;\n",
              "\n",
              "function _uploadFiles(inputId, outputId) {\n",
              "  const steps = uploadFilesStep(inputId, outputId);\n",
              "  const outputElement = document.getElementById(outputId);\n",
              "  // Cache steps on the outputElement to make it available for the next call\n",
              "  // to uploadFilesContinue from Python.\n",
              "  outputElement.steps = steps;\n",
              "\n",
              "  return _uploadFilesContinue(outputId);\n",
              "}\n",
              "\n",
              "// This is roughly an async generator (not supported in the browser yet),\n",
              "// where there are multiple asynchronous steps and the Python side is going\n",
              "// to poll for completion of each step.\n",
              "// This uses a Promise to block the python side on completion of each step,\n",
              "// then passes the result of the previous step as the input to the next step.\n",
              "function _uploadFilesContinue(outputId) {\n",
              "  const outputElement = document.getElementById(outputId);\n",
              "  const steps = outputElement.steps;\n",
              "\n",
              "  const next = steps.next(outputElement.lastPromiseValue);\n",
              "  return Promise.resolve(next.value.promise).then((value) => {\n",
              "    // Cache the last promise value to make it available to the next\n",
              "    // step of the generator.\n",
              "    outputElement.lastPromiseValue = value;\n",
              "    return next.value.response;\n",
              "  });\n",
              "}\n",
              "\n",
              "/**\n",
              " * Generator function which is called between each async step of the upload\n",
              " * process.\n",
              " * @param {string} inputId Element ID of the input file picker element.\n",
              " * @param {string} outputId Element ID of the output display.\n",
              " * @return {!Iterable<!Object>} Iterable of next steps.\n",
              " */\n",
              "function* uploadFilesStep(inputId, outputId) {\n",
              "  const inputElement = document.getElementById(inputId);\n",
              "  inputElement.disabled = false;\n",
              "\n",
              "  const outputElement = document.getElementById(outputId);\n",
              "  outputElement.innerHTML = '';\n",
              "\n",
              "  const pickedPromise = new Promise((resolve) => {\n",
              "    inputElement.addEventListener('change', (e) => {\n",
              "      resolve(e.target.files);\n",
              "    });\n",
              "  });\n",
              "\n",
              "  const cancel = document.createElement('button');\n",
              "  inputElement.parentElement.appendChild(cancel);\n",
              "  cancel.textContent = 'Cancel upload';\n",
              "  const cancelPromise = new Promise((resolve) => {\n",
              "    cancel.onclick = () => {\n",
              "      resolve(null);\n",
              "    };\n",
              "  });\n",
              "\n",
              "  // Wait for the user to pick the files.\n",
              "  const files = yield {\n",
              "    promise: Promise.race([pickedPromise, cancelPromise]),\n",
              "    response: {\n",
              "      action: 'starting',\n",
              "    }\n",
              "  };\n",
              "\n",
              "  cancel.remove();\n",
              "\n",
              "  // Disable the input element since further picks are not allowed.\n",
              "  inputElement.disabled = true;\n",
              "\n",
              "  if (!files) {\n",
              "    return {\n",
              "      response: {\n",
              "        action: 'complete',\n",
              "      }\n",
              "    };\n",
              "  }\n",
              "\n",
              "  for (const file of files) {\n",
              "    const li = document.createElement('li');\n",
              "    li.append(span(file.name, {fontWeight: 'bold'}));\n",
              "    li.append(span(\n",
              "        `(${file.type || 'n/a'}) - ${file.size} bytes, ` +\n",
              "        `last modified: ${\n",
              "            file.lastModifiedDate ? file.lastModifiedDate.toLocaleDateString() :\n",
              "                                    'n/a'} - `));\n",
              "    const percent = span('0% done');\n",
              "    li.appendChild(percent);\n",
              "\n",
              "    outputElement.appendChild(li);\n",
              "\n",
              "    const fileDataPromise = new Promise((resolve) => {\n",
              "      const reader = new FileReader();\n",
              "      reader.onload = (e) => {\n",
              "        resolve(e.target.result);\n",
              "      };\n",
              "      reader.readAsArrayBuffer(file);\n",
              "    });\n",
              "    // Wait for the data to be ready.\n",
              "    let fileData = yield {\n",
              "      promise: fileDataPromise,\n",
              "      response: {\n",
              "        action: 'continue',\n",
              "      }\n",
              "    };\n",
              "\n",
              "    // Use a chunked sending to avoid message size limits. See b/62115660.\n",
              "    let position = 0;\n",
              "    do {\n",
              "      const length = Math.min(fileData.byteLength - position, MAX_PAYLOAD_SIZE);\n",
              "      const chunk = new Uint8Array(fileData, position, length);\n",
              "      position += length;\n",
              "\n",
              "      const base64 = btoa(String.fromCharCode.apply(null, chunk));\n",
              "      yield {\n",
              "        response: {\n",
              "          action: 'append',\n",
              "          file: file.name,\n",
              "          data: base64,\n",
              "        },\n",
              "      };\n",
              "\n",
              "      let percentDone = fileData.byteLength === 0 ?\n",
              "          100 :\n",
              "          Math.round((position / fileData.byteLength) * 100);\n",
              "      percent.textContent = `${percentDone}% done`;\n",
              "\n",
              "    } while (position < fileData.byteLength);\n",
              "  }\n",
              "\n",
              "  // All done.\n",
              "  yield {\n",
              "    response: {\n",
              "      action: 'complete',\n",
              "    }\n",
              "  };\n",
              "}\n",
              "\n",
              "scope.google = scope.google || {};\n",
              "scope.google.colab = scope.google.colab || {};\n",
              "scope.google.colab._files = {\n",
              "  _uploadFiles,\n",
              "  _uploadFilesContinue,\n",
              "};\n",
              "})(self);\n",
              "</script> "
            ]
          },
          "metadata": {}
        },
        {
          "output_type": "stream",
          "name": "stdout",
          "text": [
            "Saving Life-Expectancy-Data-Updated.csv to Life-Expectancy-Data-Updated.csv\n"
          ]
        }
      ]
    },
    {
      "cell_type": "code",
      "execution_count": 3,
      "id": "25dc8139",
      "metadata": {
        "id": "25dc8139"
      },
      "outputs": [],
      "source": [
        "df=pd.read_csv('Life-Expectancy-Data-Updated.csv')"
      ]
    },
    {
      "cell_type": "code",
      "execution_count": 4,
      "id": "9601ccf5",
      "metadata": {
        "colab": {
          "base_uri": "https://localhost:8080/",
          "height": 325
        },
        "id": "9601ccf5",
        "outputId": "515a1259-85f2-4a13-b0e3-284b5353dc58"
      },
      "outputs": [
        {
          "output_type": "execute_result",
          "data": {
            "text/plain": [
              "   Country          Region  Year  Infant_deaths  Under_five_deaths  \\\n",
              "0  Turkiye     Middle East  2015           11.1               13.0   \n",
              "1    Spain  European Union  2015            2.7                3.3   \n",
              "2    India            Asia  2007           51.5               67.9   \n",
              "3   Guyana   South America  2006           32.8               40.5   \n",
              "4   Israel     Middle East  2012            3.4                4.3   \n",
              "\n",
              "   Adult_mortality  Alcohol_consumption  Hepatitis_B  Measles   BMI  ...  \\\n",
              "0         105.8240                 1.32           97       65  27.8  ...   \n",
              "1          57.9025                10.35           97       94  26.0  ...   \n",
              "2         201.0765                 1.57           60       35  21.2  ...   \n",
              "3         222.1965                 5.68           93       74  25.3  ...   \n",
              "4          57.9510                 2.89           97       89  27.0  ...   \n",
              "\n",
              "   Diphtheria  Incidents_HIV  GDP_per_capita  Population_mln  \\\n",
              "0          97           0.08           11006           78.53   \n",
              "1          97           0.09           25742           46.44   \n",
              "2          64           0.13            1076         1183.21   \n",
              "3          93           0.79            4146            0.75   \n",
              "4          94           0.08           33995            7.91   \n",
              "\n",
              "   Thinness_ten_nineteen_years  Thinness_five_nine_years  Schooling  \\\n",
              "0                          4.9                       4.8        7.8   \n",
              "1                          0.6                       0.5        9.7   \n",
              "2                         27.1                      28.0        5.0   \n",
              "3                          5.7                       5.5        7.9   \n",
              "4                          1.2                       1.1       12.8   \n",
              "\n",
              "   Economy_status_Developed  Economy_status_Developing  Life_expectancy  \n",
              "0                         0                          1             76.5  \n",
              "1                         1                          0             82.8  \n",
              "2                         0                          1             65.4  \n",
              "3                         0                          1             67.0  \n",
              "4                         1                          0             81.7  \n",
              "\n",
              "[5 rows x 21 columns]"
            ],
            "text/html": [
              "\n",
              "  <div id=\"df-b62970e9-59bf-4ba0-9611-953db343a046\" class=\"colab-df-container\">\n",
              "    <div>\n",
              "<style scoped>\n",
              "    .dataframe tbody tr th:only-of-type {\n",
              "        vertical-align: middle;\n",
              "    }\n",
              "\n",
              "    .dataframe tbody tr th {\n",
              "        vertical-align: top;\n",
              "    }\n",
              "\n",
              "    .dataframe thead th {\n",
              "        text-align: right;\n",
              "    }\n",
              "</style>\n",
              "<table border=\"1\" class=\"dataframe\">\n",
              "  <thead>\n",
              "    <tr style=\"text-align: right;\">\n",
              "      <th></th>\n",
              "      <th>Country</th>\n",
              "      <th>Region</th>\n",
              "      <th>Year</th>\n",
              "      <th>Infant_deaths</th>\n",
              "      <th>Under_five_deaths</th>\n",
              "      <th>Adult_mortality</th>\n",
              "      <th>Alcohol_consumption</th>\n",
              "      <th>Hepatitis_B</th>\n",
              "      <th>Measles</th>\n",
              "      <th>BMI</th>\n",
              "      <th>...</th>\n",
              "      <th>Diphtheria</th>\n",
              "      <th>Incidents_HIV</th>\n",
              "      <th>GDP_per_capita</th>\n",
              "      <th>Population_mln</th>\n",
              "      <th>Thinness_ten_nineteen_years</th>\n",
              "      <th>Thinness_five_nine_years</th>\n",
              "      <th>Schooling</th>\n",
              "      <th>Economy_status_Developed</th>\n",
              "      <th>Economy_status_Developing</th>\n",
              "      <th>Life_expectancy</th>\n",
              "    </tr>\n",
              "  </thead>\n",
              "  <tbody>\n",
              "    <tr>\n",
              "      <th>0</th>\n",
              "      <td>Turkiye</td>\n",
              "      <td>Middle East</td>\n",
              "      <td>2015</td>\n",
              "      <td>11.1</td>\n",
              "      <td>13.0</td>\n",
              "      <td>105.8240</td>\n",
              "      <td>1.32</td>\n",
              "      <td>97</td>\n",
              "      <td>65</td>\n",
              "      <td>27.8</td>\n",
              "      <td>...</td>\n",
              "      <td>97</td>\n",
              "      <td>0.08</td>\n",
              "      <td>11006</td>\n",
              "      <td>78.53</td>\n",
              "      <td>4.9</td>\n",
              "      <td>4.8</td>\n",
              "      <td>7.8</td>\n",
              "      <td>0</td>\n",
              "      <td>1</td>\n",
              "      <td>76.5</td>\n",
              "    </tr>\n",
              "    <tr>\n",
              "      <th>1</th>\n",
              "      <td>Spain</td>\n",
              "      <td>European Union</td>\n",
              "      <td>2015</td>\n",
              "      <td>2.7</td>\n",
              "      <td>3.3</td>\n",
              "      <td>57.9025</td>\n",
              "      <td>10.35</td>\n",
              "      <td>97</td>\n",
              "      <td>94</td>\n",
              "      <td>26.0</td>\n",
              "      <td>...</td>\n",
              "      <td>97</td>\n",
              "      <td>0.09</td>\n",
              "      <td>25742</td>\n",
              "      <td>46.44</td>\n",
              "      <td>0.6</td>\n",
              "      <td>0.5</td>\n",
              "      <td>9.7</td>\n",
              "      <td>1</td>\n",
              "      <td>0</td>\n",
              "      <td>82.8</td>\n",
              "    </tr>\n",
              "    <tr>\n",
              "      <th>2</th>\n",
              "      <td>India</td>\n",
              "      <td>Asia</td>\n",
              "      <td>2007</td>\n",
              "      <td>51.5</td>\n",
              "      <td>67.9</td>\n",
              "      <td>201.0765</td>\n",
              "      <td>1.57</td>\n",
              "      <td>60</td>\n",
              "      <td>35</td>\n",
              "      <td>21.2</td>\n",
              "      <td>...</td>\n",
              "      <td>64</td>\n",
              "      <td>0.13</td>\n",
              "      <td>1076</td>\n",
              "      <td>1183.21</td>\n",
              "      <td>27.1</td>\n",
              "      <td>28.0</td>\n",
              "      <td>5.0</td>\n",
              "      <td>0</td>\n",
              "      <td>1</td>\n",
              "      <td>65.4</td>\n",
              "    </tr>\n",
              "    <tr>\n",
              "      <th>3</th>\n",
              "      <td>Guyana</td>\n",
              "      <td>South America</td>\n",
              "      <td>2006</td>\n",
              "      <td>32.8</td>\n",
              "      <td>40.5</td>\n",
              "      <td>222.1965</td>\n",
              "      <td>5.68</td>\n",
              "      <td>93</td>\n",
              "      <td>74</td>\n",
              "      <td>25.3</td>\n",
              "      <td>...</td>\n",
              "      <td>93</td>\n",
              "      <td>0.79</td>\n",
              "      <td>4146</td>\n",
              "      <td>0.75</td>\n",
              "      <td>5.7</td>\n",
              "      <td>5.5</td>\n",
              "      <td>7.9</td>\n",
              "      <td>0</td>\n",
              "      <td>1</td>\n",
              "      <td>67.0</td>\n",
              "    </tr>\n",
              "    <tr>\n",
              "      <th>4</th>\n",
              "      <td>Israel</td>\n",
              "      <td>Middle East</td>\n",
              "      <td>2012</td>\n",
              "      <td>3.4</td>\n",
              "      <td>4.3</td>\n",
              "      <td>57.9510</td>\n",
              "      <td>2.89</td>\n",
              "      <td>97</td>\n",
              "      <td>89</td>\n",
              "      <td>27.0</td>\n",
              "      <td>...</td>\n",
              "      <td>94</td>\n",
              "      <td>0.08</td>\n",
              "      <td>33995</td>\n",
              "      <td>7.91</td>\n",
              "      <td>1.2</td>\n",
              "      <td>1.1</td>\n",
              "      <td>12.8</td>\n",
              "      <td>1</td>\n",
              "      <td>0</td>\n",
              "      <td>81.7</td>\n",
              "    </tr>\n",
              "  </tbody>\n",
              "</table>\n",
              "<p>5 rows × 21 columns</p>\n",
              "</div>\n",
              "    <div class=\"colab-df-buttons\">\n",
              "\n",
              "  <div class=\"colab-df-container\">\n",
              "    <button class=\"colab-df-convert\" onclick=\"convertToInteractive('df-b62970e9-59bf-4ba0-9611-953db343a046')\"\n",
              "            title=\"Convert this dataframe to an interactive table.\"\n",
              "            style=\"display:none;\">\n",
              "\n",
              "  <svg xmlns=\"http://www.w3.org/2000/svg\" height=\"24px\" viewBox=\"0 -960 960 960\">\n",
              "    <path d=\"M120-120v-720h720v720H120Zm60-500h600v-160H180v160Zm220 220h160v-160H400v160Zm0 220h160v-160H400v160ZM180-400h160v-160H180v160Zm440 0h160v-160H620v160ZM180-180h160v-160H180v160Zm440 0h160v-160H620v160Z\"/>\n",
              "  </svg>\n",
              "    </button>\n",
              "\n",
              "  <style>\n",
              "    .colab-df-container {\n",
              "      display:flex;\n",
              "      gap: 12px;\n",
              "    }\n",
              "\n",
              "    .colab-df-convert {\n",
              "      background-color: #E8F0FE;\n",
              "      border: none;\n",
              "      border-radius: 50%;\n",
              "      cursor: pointer;\n",
              "      display: none;\n",
              "      fill: #1967D2;\n",
              "      height: 32px;\n",
              "      padding: 0 0 0 0;\n",
              "      width: 32px;\n",
              "    }\n",
              "\n",
              "    .colab-df-convert:hover {\n",
              "      background-color: #E2EBFA;\n",
              "      box-shadow: 0px 1px 2px rgba(60, 64, 67, 0.3), 0px 1px 3px 1px rgba(60, 64, 67, 0.15);\n",
              "      fill: #174EA6;\n",
              "    }\n",
              "\n",
              "    .colab-df-buttons div {\n",
              "      margin-bottom: 4px;\n",
              "    }\n",
              "\n",
              "    [theme=dark] .colab-df-convert {\n",
              "      background-color: #3B4455;\n",
              "      fill: #D2E3FC;\n",
              "    }\n",
              "\n",
              "    [theme=dark] .colab-df-convert:hover {\n",
              "      background-color: #434B5C;\n",
              "      box-shadow: 0px 1px 3px 1px rgba(0, 0, 0, 0.15);\n",
              "      filter: drop-shadow(0px 1px 2px rgba(0, 0, 0, 0.3));\n",
              "      fill: #FFFFFF;\n",
              "    }\n",
              "  </style>\n",
              "\n",
              "    <script>\n",
              "      const buttonEl =\n",
              "        document.querySelector('#df-b62970e9-59bf-4ba0-9611-953db343a046 button.colab-df-convert');\n",
              "      buttonEl.style.display =\n",
              "        google.colab.kernel.accessAllowed ? 'block' : 'none';\n",
              "\n",
              "      async function convertToInteractive(key) {\n",
              "        const element = document.querySelector('#df-b62970e9-59bf-4ba0-9611-953db343a046');\n",
              "        const dataTable =\n",
              "          await google.colab.kernel.invokeFunction('convertToInteractive',\n",
              "                                                    [key], {});\n",
              "        if (!dataTable) return;\n",
              "\n",
              "        const docLinkHtml = 'Like what you see? Visit the ' +\n",
              "          '<a target=\"_blank\" href=https://colab.research.google.com/notebooks/data_table.ipynb>data table notebook</a>'\n",
              "          + ' to learn more about interactive tables.';\n",
              "        element.innerHTML = '';\n",
              "        dataTable['output_type'] = 'display_data';\n",
              "        await google.colab.output.renderOutput(dataTable, element);\n",
              "        const docLink = document.createElement('div');\n",
              "        docLink.innerHTML = docLinkHtml;\n",
              "        element.appendChild(docLink);\n",
              "      }\n",
              "    </script>\n",
              "  </div>\n",
              "\n",
              "\n",
              "<div id=\"df-a3ec1a73-9ad9-42e3-8178-858b560bd2cd\">\n",
              "  <button class=\"colab-df-quickchart\" onclick=\"quickchart('df-a3ec1a73-9ad9-42e3-8178-858b560bd2cd')\"\n",
              "            title=\"Suggest charts\"\n",
              "            style=\"display:none;\">\n",
              "\n",
              "<svg xmlns=\"http://www.w3.org/2000/svg\" height=\"24px\"viewBox=\"0 0 24 24\"\n",
              "     width=\"24px\">\n",
              "    <g>\n",
              "        <path d=\"M19 3H5c-1.1 0-2 .9-2 2v14c0 1.1.9 2 2 2h14c1.1 0 2-.9 2-2V5c0-1.1-.9-2-2-2zM9 17H7v-7h2v7zm4 0h-2V7h2v10zm4 0h-2v-4h2v4z\"/>\n",
              "    </g>\n",
              "</svg>\n",
              "  </button>\n",
              "\n",
              "<style>\n",
              "  .colab-df-quickchart {\n",
              "      --bg-color: #E8F0FE;\n",
              "      --fill-color: #1967D2;\n",
              "      --hover-bg-color: #E2EBFA;\n",
              "      --hover-fill-color: #174EA6;\n",
              "      --disabled-fill-color: #AAA;\n",
              "      --disabled-bg-color: #DDD;\n",
              "  }\n",
              "\n",
              "  [theme=dark] .colab-df-quickchart {\n",
              "      --bg-color: #3B4455;\n",
              "      --fill-color: #D2E3FC;\n",
              "      --hover-bg-color: #434B5C;\n",
              "      --hover-fill-color: #FFFFFF;\n",
              "      --disabled-bg-color: #3B4455;\n",
              "      --disabled-fill-color: #666;\n",
              "  }\n",
              "\n",
              "  .colab-df-quickchart {\n",
              "    background-color: var(--bg-color);\n",
              "    border: none;\n",
              "    border-radius: 50%;\n",
              "    cursor: pointer;\n",
              "    display: none;\n",
              "    fill: var(--fill-color);\n",
              "    height: 32px;\n",
              "    padding: 0;\n",
              "    width: 32px;\n",
              "  }\n",
              "\n",
              "  .colab-df-quickchart:hover {\n",
              "    background-color: var(--hover-bg-color);\n",
              "    box-shadow: 0 1px 2px rgba(60, 64, 67, 0.3), 0 1px 3px 1px rgba(60, 64, 67, 0.15);\n",
              "    fill: var(--button-hover-fill-color);\n",
              "  }\n",
              "\n",
              "  .colab-df-quickchart-complete:disabled,\n",
              "  .colab-df-quickchart-complete:disabled:hover {\n",
              "    background-color: var(--disabled-bg-color);\n",
              "    fill: var(--disabled-fill-color);\n",
              "    box-shadow: none;\n",
              "  }\n",
              "\n",
              "  .colab-df-spinner {\n",
              "    border: 2px solid var(--fill-color);\n",
              "    border-color: transparent;\n",
              "    border-bottom-color: var(--fill-color);\n",
              "    animation:\n",
              "      spin 1s steps(1) infinite;\n",
              "  }\n",
              "\n",
              "  @keyframes spin {\n",
              "    0% {\n",
              "      border-color: transparent;\n",
              "      border-bottom-color: var(--fill-color);\n",
              "      border-left-color: var(--fill-color);\n",
              "    }\n",
              "    20% {\n",
              "      border-color: transparent;\n",
              "      border-left-color: var(--fill-color);\n",
              "      border-top-color: var(--fill-color);\n",
              "    }\n",
              "    30% {\n",
              "      border-color: transparent;\n",
              "      border-left-color: var(--fill-color);\n",
              "      border-top-color: var(--fill-color);\n",
              "      border-right-color: var(--fill-color);\n",
              "    }\n",
              "    40% {\n",
              "      border-color: transparent;\n",
              "      border-right-color: var(--fill-color);\n",
              "      border-top-color: var(--fill-color);\n",
              "    }\n",
              "    60% {\n",
              "      border-color: transparent;\n",
              "      border-right-color: var(--fill-color);\n",
              "    }\n",
              "    80% {\n",
              "      border-color: transparent;\n",
              "      border-right-color: var(--fill-color);\n",
              "      border-bottom-color: var(--fill-color);\n",
              "    }\n",
              "    90% {\n",
              "      border-color: transparent;\n",
              "      border-bottom-color: var(--fill-color);\n",
              "    }\n",
              "  }\n",
              "</style>\n",
              "\n",
              "  <script>\n",
              "    async function quickchart(key) {\n",
              "      const quickchartButtonEl =\n",
              "        document.querySelector('#' + key + ' button');\n",
              "      quickchartButtonEl.disabled = true;  // To prevent multiple clicks.\n",
              "      quickchartButtonEl.classList.add('colab-df-spinner');\n",
              "      try {\n",
              "        const charts = await google.colab.kernel.invokeFunction(\n",
              "            'suggestCharts', [key], {});\n",
              "      } catch (error) {\n",
              "        console.error('Error during call to suggestCharts:', error);\n",
              "      }\n",
              "      quickchartButtonEl.classList.remove('colab-df-spinner');\n",
              "      quickchartButtonEl.classList.add('colab-df-quickchart-complete');\n",
              "    }\n",
              "    (() => {\n",
              "      let quickchartButtonEl =\n",
              "        document.querySelector('#df-a3ec1a73-9ad9-42e3-8178-858b560bd2cd button');\n",
              "      quickchartButtonEl.style.display =\n",
              "        google.colab.kernel.accessAllowed ? 'block' : 'none';\n",
              "    })();\n",
              "  </script>\n",
              "</div>\n",
              "    </div>\n",
              "  </div>\n"
            ]
          },
          "metadata": {},
          "execution_count": 4
        }
      ],
      "source": [
        "df.head()"
      ]
    },
    {
      "cell_type": "code",
      "execution_count": 5,
      "id": "6f0e259a",
      "metadata": {
        "colab": {
          "base_uri": "https://localhost:8080/"
        },
        "id": "6f0e259a",
        "outputId": "d3a14ffc-3bcc-4af1-87c8-3117b49a2380"
      },
      "outputs": [
        {
          "output_type": "execute_result",
          "data": {
            "text/plain": [
              "(2864, 21)"
            ]
          },
          "metadata": {},
          "execution_count": 5
        }
      ],
      "source": [
        "df.shape"
      ]
    },
    {
      "cell_type": "code",
      "execution_count": 6,
      "id": "62887ec5",
      "metadata": {
        "colab": {
          "base_uri": "https://localhost:8080/"
        },
        "id": "62887ec5",
        "outputId": "8316109c-a681-455a-9897-89b40593af53"
      },
      "outputs": [
        {
          "output_type": "execute_result",
          "data": {
            "text/plain": [
              "Index(['Country', 'Region', 'Year', 'Infant_deaths', 'Under_five_deaths',\n",
              "       'Adult_mortality', 'Alcohol_consumption', 'Hepatitis_B', 'Measles',\n",
              "       'BMI', 'Polio', 'Diphtheria', 'Incidents_HIV', 'GDP_per_capita',\n",
              "       'Population_mln', 'Thinness_ten_nineteen_years',\n",
              "       'Thinness_five_nine_years', 'Schooling', 'Economy_status_Developed',\n",
              "       'Economy_status_Developing', 'Life_expectancy'],\n",
              "      dtype='object')"
            ]
          },
          "metadata": {},
          "execution_count": 6
        }
      ],
      "source": [
        "df.columns"
      ]
    },
    {
      "cell_type": "code",
      "execution_count": 7,
      "id": "ffd0989c",
      "metadata": {
        "scrolled": false,
        "id": "ffd0989c",
        "outputId": "8fc940af-92ff-45cb-8a9a-8b953e4f2b5e",
        "colab": {
          "base_uri": "https://localhost:8080/"
        }
      },
      "outputs": [
        {
          "output_type": "stream",
          "name": "stdout",
          "text": [
            "<class 'pandas.core.frame.DataFrame'>\n",
            "RangeIndex: 2864 entries, 0 to 2863\n",
            "Data columns (total 21 columns):\n",
            " #   Column                       Non-Null Count  Dtype  \n",
            "---  ------                       --------------  -----  \n",
            " 0   Country                      2864 non-null   object \n",
            " 1   Region                       2864 non-null   object \n",
            " 2   Year                         2864 non-null   int64  \n",
            " 3   Infant_deaths                2864 non-null   float64\n",
            " 4   Under_five_deaths            2864 non-null   float64\n",
            " 5   Adult_mortality              2864 non-null   float64\n",
            " 6   Alcohol_consumption          2864 non-null   float64\n",
            " 7   Hepatitis_B                  2864 non-null   int64  \n",
            " 8   Measles                      2864 non-null   int64  \n",
            " 9   BMI                          2864 non-null   float64\n",
            " 10  Polio                        2864 non-null   int64  \n",
            " 11  Diphtheria                   2864 non-null   int64  \n",
            " 12  Incidents_HIV                2864 non-null   float64\n",
            " 13  GDP_per_capita               2864 non-null   int64  \n",
            " 14  Population_mln               2864 non-null   float64\n",
            " 15  Thinness_ten_nineteen_years  2864 non-null   float64\n",
            " 16  Thinness_five_nine_years     2864 non-null   float64\n",
            " 17  Schooling                    2864 non-null   float64\n",
            " 18  Economy_status_Developed     2864 non-null   int64  \n",
            " 19  Economy_status_Developing    2864 non-null   int64  \n",
            " 20  Life_expectancy              2864 non-null   float64\n",
            "dtypes: float64(11), int64(8), object(2)\n",
            "memory usage: 470.0+ KB\n"
          ]
        }
      ],
      "source": [
        "df.info()"
      ]
    },
    {
      "cell_type": "markdown",
      "source": [
        "From the informations above, it can be seen that the dataset consists of 19 variables that are numeric and 2 variables that are string."
      ],
      "metadata": {
        "id": "DyJvO5umKxi1"
      },
      "id": "DyJvO5umKxi1"
    },
    {
      "cell_type": "code",
      "source": [
        "df['Year'] = df['Year'] - 2000"
      ],
      "metadata": {
        "id": "TAyNdYH-N8vI"
      },
      "id": "TAyNdYH-N8vI",
      "execution_count": 8,
      "outputs": []
    },
    {
      "cell_type": "code",
      "source": [
        "df.head()"
      ],
      "metadata": {
        "colab": {
          "base_uri": "https://localhost:8080/",
          "height": 325
        },
        "id": "y_uFA7rAOP65",
        "outputId": "b23d292b-2cf0-43bb-f7a1-c1c37f421b0e"
      },
      "id": "y_uFA7rAOP65",
      "execution_count": 9,
      "outputs": [
        {
          "output_type": "execute_result",
          "data": {
            "text/plain": [
              "   Country          Region  Year  Infant_deaths  Under_five_deaths  \\\n",
              "0  Turkiye     Middle East    15           11.1               13.0   \n",
              "1    Spain  European Union    15            2.7                3.3   \n",
              "2    India            Asia     7           51.5               67.9   \n",
              "3   Guyana   South America     6           32.8               40.5   \n",
              "4   Israel     Middle East    12            3.4                4.3   \n",
              "\n",
              "   Adult_mortality  Alcohol_consumption  Hepatitis_B  Measles   BMI  ...  \\\n",
              "0         105.8240                 1.32           97       65  27.8  ...   \n",
              "1          57.9025                10.35           97       94  26.0  ...   \n",
              "2         201.0765                 1.57           60       35  21.2  ...   \n",
              "3         222.1965                 5.68           93       74  25.3  ...   \n",
              "4          57.9510                 2.89           97       89  27.0  ...   \n",
              "\n",
              "   Diphtheria  Incidents_HIV  GDP_per_capita  Population_mln  \\\n",
              "0          97           0.08           11006           78.53   \n",
              "1          97           0.09           25742           46.44   \n",
              "2          64           0.13            1076         1183.21   \n",
              "3          93           0.79            4146            0.75   \n",
              "4          94           0.08           33995            7.91   \n",
              "\n",
              "   Thinness_ten_nineteen_years  Thinness_five_nine_years  Schooling  \\\n",
              "0                          4.9                       4.8        7.8   \n",
              "1                          0.6                       0.5        9.7   \n",
              "2                         27.1                      28.0        5.0   \n",
              "3                          5.7                       5.5        7.9   \n",
              "4                          1.2                       1.1       12.8   \n",
              "\n",
              "   Economy_status_Developed  Economy_status_Developing  Life_expectancy  \n",
              "0                         0                          1             76.5  \n",
              "1                         1                          0             82.8  \n",
              "2                         0                          1             65.4  \n",
              "3                         0                          1             67.0  \n",
              "4                         1                          0             81.7  \n",
              "\n",
              "[5 rows x 21 columns]"
            ],
            "text/html": [
              "\n",
              "  <div id=\"df-71eae0d0-206e-44d0-b1b8-428b6f90ca6f\" class=\"colab-df-container\">\n",
              "    <div>\n",
              "<style scoped>\n",
              "    .dataframe tbody tr th:only-of-type {\n",
              "        vertical-align: middle;\n",
              "    }\n",
              "\n",
              "    .dataframe tbody tr th {\n",
              "        vertical-align: top;\n",
              "    }\n",
              "\n",
              "    .dataframe thead th {\n",
              "        text-align: right;\n",
              "    }\n",
              "</style>\n",
              "<table border=\"1\" class=\"dataframe\">\n",
              "  <thead>\n",
              "    <tr style=\"text-align: right;\">\n",
              "      <th></th>\n",
              "      <th>Country</th>\n",
              "      <th>Region</th>\n",
              "      <th>Year</th>\n",
              "      <th>Infant_deaths</th>\n",
              "      <th>Under_five_deaths</th>\n",
              "      <th>Adult_mortality</th>\n",
              "      <th>Alcohol_consumption</th>\n",
              "      <th>Hepatitis_B</th>\n",
              "      <th>Measles</th>\n",
              "      <th>BMI</th>\n",
              "      <th>...</th>\n",
              "      <th>Diphtheria</th>\n",
              "      <th>Incidents_HIV</th>\n",
              "      <th>GDP_per_capita</th>\n",
              "      <th>Population_mln</th>\n",
              "      <th>Thinness_ten_nineteen_years</th>\n",
              "      <th>Thinness_five_nine_years</th>\n",
              "      <th>Schooling</th>\n",
              "      <th>Economy_status_Developed</th>\n",
              "      <th>Economy_status_Developing</th>\n",
              "      <th>Life_expectancy</th>\n",
              "    </tr>\n",
              "  </thead>\n",
              "  <tbody>\n",
              "    <tr>\n",
              "      <th>0</th>\n",
              "      <td>Turkiye</td>\n",
              "      <td>Middle East</td>\n",
              "      <td>15</td>\n",
              "      <td>11.1</td>\n",
              "      <td>13.0</td>\n",
              "      <td>105.8240</td>\n",
              "      <td>1.32</td>\n",
              "      <td>97</td>\n",
              "      <td>65</td>\n",
              "      <td>27.8</td>\n",
              "      <td>...</td>\n",
              "      <td>97</td>\n",
              "      <td>0.08</td>\n",
              "      <td>11006</td>\n",
              "      <td>78.53</td>\n",
              "      <td>4.9</td>\n",
              "      <td>4.8</td>\n",
              "      <td>7.8</td>\n",
              "      <td>0</td>\n",
              "      <td>1</td>\n",
              "      <td>76.5</td>\n",
              "    </tr>\n",
              "    <tr>\n",
              "      <th>1</th>\n",
              "      <td>Spain</td>\n",
              "      <td>European Union</td>\n",
              "      <td>15</td>\n",
              "      <td>2.7</td>\n",
              "      <td>3.3</td>\n",
              "      <td>57.9025</td>\n",
              "      <td>10.35</td>\n",
              "      <td>97</td>\n",
              "      <td>94</td>\n",
              "      <td>26.0</td>\n",
              "      <td>...</td>\n",
              "      <td>97</td>\n",
              "      <td>0.09</td>\n",
              "      <td>25742</td>\n",
              "      <td>46.44</td>\n",
              "      <td>0.6</td>\n",
              "      <td>0.5</td>\n",
              "      <td>9.7</td>\n",
              "      <td>1</td>\n",
              "      <td>0</td>\n",
              "      <td>82.8</td>\n",
              "    </tr>\n",
              "    <tr>\n",
              "      <th>2</th>\n",
              "      <td>India</td>\n",
              "      <td>Asia</td>\n",
              "      <td>7</td>\n",
              "      <td>51.5</td>\n",
              "      <td>67.9</td>\n",
              "      <td>201.0765</td>\n",
              "      <td>1.57</td>\n",
              "      <td>60</td>\n",
              "      <td>35</td>\n",
              "      <td>21.2</td>\n",
              "      <td>...</td>\n",
              "      <td>64</td>\n",
              "      <td>0.13</td>\n",
              "      <td>1076</td>\n",
              "      <td>1183.21</td>\n",
              "      <td>27.1</td>\n",
              "      <td>28.0</td>\n",
              "      <td>5.0</td>\n",
              "      <td>0</td>\n",
              "      <td>1</td>\n",
              "      <td>65.4</td>\n",
              "    </tr>\n",
              "    <tr>\n",
              "      <th>3</th>\n",
              "      <td>Guyana</td>\n",
              "      <td>South America</td>\n",
              "      <td>6</td>\n",
              "      <td>32.8</td>\n",
              "      <td>40.5</td>\n",
              "      <td>222.1965</td>\n",
              "      <td>5.68</td>\n",
              "      <td>93</td>\n",
              "      <td>74</td>\n",
              "      <td>25.3</td>\n",
              "      <td>...</td>\n",
              "      <td>93</td>\n",
              "      <td>0.79</td>\n",
              "      <td>4146</td>\n",
              "      <td>0.75</td>\n",
              "      <td>5.7</td>\n",
              "      <td>5.5</td>\n",
              "      <td>7.9</td>\n",
              "      <td>0</td>\n",
              "      <td>1</td>\n",
              "      <td>67.0</td>\n",
              "    </tr>\n",
              "    <tr>\n",
              "      <th>4</th>\n",
              "      <td>Israel</td>\n",
              "      <td>Middle East</td>\n",
              "      <td>12</td>\n",
              "      <td>3.4</td>\n",
              "      <td>4.3</td>\n",
              "      <td>57.9510</td>\n",
              "      <td>2.89</td>\n",
              "      <td>97</td>\n",
              "      <td>89</td>\n",
              "      <td>27.0</td>\n",
              "      <td>...</td>\n",
              "      <td>94</td>\n",
              "      <td>0.08</td>\n",
              "      <td>33995</td>\n",
              "      <td>7.91</td>\n",
              "      <td>1.2</td>\n",
              "      <td>1.1</td>\n",
              "      <td>12.8</td>\n",
              "      <td>1</td>\n",
              "      <td>0</td>\n",
              "      <td>81.7</td>\n",
              "    </tr>\n",
              "  </tbody>\n",
              "</table>\n",
              "<p>5 rows × 21 columns</p>\n",
              "</div>\n",
              "    <div class=\"colab-df-buttons\">\n",
              "\n",
              "  <div class=\"colab-df-container\">\n",
              "    <button class=\"colab-df-convert\" onclick=\"convertToInteractive('df-71eae0d0-206e-44d0-b1b8-428b6f90ca6f')\"\n",
              "            title=\"Convert this dataframe to an interactive table.\"\n",
              "            style=\"display:none;\">\n",
              "\n",
              "  <svg xmlns=\"http://www.w3.org/2000/svg\" height=\"24px\" viewBox=\"0 -960 960 960\">\n",
              "    <path d=\"M120-120v-720h720v720H120Zm60-500h600v-160H180v160Zm220 220h160v-160H400v160Zm0 220h160v-160H400v160ZM180-400h160v-160H180v160Zm440 0h160v-160H620v160ZM180-180h160v-160H180v160Zm440 0h160v-160H620v160Z\"/>\n",
              "  </svg>\n",
              "    </button>\n",
              "\n",
              "  <style>\n",
              "    .colab-df-container {\n",
              "      display:flex;\n",
              "      gap: 12px;\n",
              "    }\n",
              "\n",
              "    .colab-df-convert {\n",
              "      background-color: #E8F0FE;\n",
              "      border: none;\n",
              "      border-radius: 50%;\n",
              "      cursor: pointer;\n",
              "      display: none;\n",
              "      fill: #1967D2;\n",
              "      height: 32px;\n",
              "      padding: 0 0 0 0;\n",
              "      width: 32px;\n",
              "    }\n",
              "\n",
              "    .colab-df-convert:hover {\n",
              "      background-color: #E2EBFA;\n",
              "      box-shadow: 0px 1px 2px rgba(60, 64, 67, 0.3), 0px 1px 3px 1px rgba(60, 64, 67, 0.15);\n",
              "      fill: #174EA6;\n",
              "    }\n",
              "\n",
              "    .colab-df-buttons div {\n",
              "      margin-bottom: 4px;\n",
              "    }\n",
              "\n",
              "    [theme=dark] .colab-df-convert {\n",
              "      background-color: #3B4455;\n",
              "      fill: #D2E3FC;\n",
              "    }\n",
              "\n",
              "    [theme=dark] .colab-df-convert:hover {\n",
              "      background-color: #434B5C;\n",
              "      box-shadow: 0px 1px 3px 1px rgba(0, 0, 0, 0.15);\n",
              "      filter: drop-shadow(0px 1px 2px rgba(0, 0, 0, 0.3));\n",
              "      fill: #FFFFFF;\n",
              "    }\n",
              "  </style>\n",
              "\n",
              "    <script>\n",
              "      const buttonEl =\n",
              "        document.querySelector('#df-71eae0d0-206e-44d0-b1b8-428b6f90ca6f button.colab-df-convert');\n",
              "      buttonEl.style.display =\n",
              "        google.colab.kernel.accessAllowed ? 'block' : 'none';\n",
              "\n",
              "      async function convertToInteractive(key) {\n",
              "        const element = document.querySelector('#df-71eae0d0-206e-44d0-b1b8-428b6f90ca6f');\n",
              "        const dataTable =\n",
              "          await google.colab.kernel.invokeFunction('convertToInteractive',\n",
              "                                                    [key], {});\n",
              "        if (!dataTable) return;\n",
              "\n",
              "        const docLinkHtml = 'Like what you see? Visit the ' +\n",
              "          '<a target=\"_blank\" href=https://colab.research.google.com/notebooks/data_table.ipynb>data table notebook</a>'\n",
              "          + ' to learn more about interactive tables.';\n",
              "        element.innerHTML = '';\n",
              "        dataTable['output_type'] = 'display_data';\n",
              "        await google.colab.output.renderOutput(dataTable, element);\n",
              "        const docLink = document.createElement('div');\n",
              "        docLink.innerHTML = docLinkHtml;\n",
              "        element.appendChild(docLink);\n",
              "      }\n",
              "    </script>\n",
              "  </div>\n",
              "\n",
              "\n",
              "<div id=\"df-c0bb00e3-8549-4b0c-b186-27f0055cdd8f\">\n",
              "  <button class=\"colab-df-quickchart\" onclick=\"quickchart('df-c0bb00e3-8549-4b0c-b186-27f0055cdd8f')\"\n",
              "            title=\"Suggest charts\"\n",
              "            style=\"display:none;\">\n",
              "\n",
              "<svg xmlns=\"http://www.w3.org/2000/svg\" height=\"24px\"viewBox=\"0 0 24 24\"\n",
              "     width=\"24px\">\n",
              "    <g>\n",
              "        <path d=\"M19 3H5c-1.1 0-2 .9-2 2v14c0 1.1.9 2 2 2h14c1.1 0 2-.9 2-2V5c0-1.1-.9-2-2-2zM9 17H7v-7h2v7zm4 0h-2V7h2v10zm4 0h-2v-4h2v4z\"/>\n",
              "    </g>\n",
              "</svg>\n",
              "  </button>\n",
              "\n",
              "<style>\n",
              "  .colab-df-quickchart {\n",
              "      --bg-color: #E8F0FE;\n",
              "      --fill-color: #1967D2;\n",
              "      --hover-bg-color: #E2EBFA;\n",
              "      --hover-fill-color: #174EA6;\n",
              "      --disabled-fill-color: #AAA;\n",
              "      --disabled-bg-color: #DDD;\n",
              "  }\n",
              "\n",
              "  [theme=dark] .colab-df-quickchart {\n",
              "      --bg-color: #3B4455;\n",
              "      --fill-color: #D2E3FC;\n",
              "      --hover-bg-color: #434B5C;\n",
              "      --hover-fill-color: #FFFFFF;\n",
              "      --disabled-bg-color: #3B4455;\n",
              "      --disabled-fill-color: #666;\n",
              "  }\n",
              "\n",
              "  .colab-df-quickchart {\n",
              "    background-color: var(--bg-color);\n",
              "    border: none;\n",
              "    border-radius: 50%;\n",
              "    cursor: pointer;\n",
              "    display: none;\n",
              "    fill: var(--fill-color);\n",
              "    height: 32px;\n",
              "    padding: 0;\n",
              "    width: 32px;\n",
              "  }\n",
              "\n",
              "  .colab-df-quickchart:hover {\n",
              "    background-color: var(--hover-bg-color);\n",
              "    box-shadow: 0 1px 2px rgba(60, 64, 67, 0.3), 0 1px 3px 1px rgba(60, 64, 67, 0.15);\n",
              "    fill: var(--button-hover-fill-color);\n",
              "  }\n",
              "\n",
              "  .colab-df-quickchart-complete:disabled,\n",
              "  .colab-df-quickchart-complete:disabled:hover {\n",
              "    background-color: var(--disabled-bg-color);\n",
              "    fill: var(--disabled-fill-color);\n",
              "    box-shadow: none;\n",
              "  }\n",
              "\n",
              "  .colab-df-spinner {\n",
              "    border: 2px solid var(--fill-color);\n",
              "    border-color: transparent;\n",
              "    border-bottom-color: var(--fill-color);\n",
              "    animation:\n",
              "      spin 1s steps(1) infinite;\n",
              "  }\n",
              "\n",
              "  @keyframes spin {\n",
              "    0% {\n",
              "      border-color: transparent;\n",
              "      border-bottom-color: var(--fill-color);\n",
              "      border-left-color: var(--fill-color);\n",
              "    }\n",
              "    20% {\n",
              "      border-color: transparent;\n",
              "      border-left-color: var(--fill-color);\n",
              "      border-top-color: var(--fill-color);\n",
              "    }\n",
              "    30% {\n",
              "      border-color: transparent;\n",
              "      border-left-color: var(--fill-color);\n",
              "      border-top-color: var(--fill-color);\n",
              "      border-right-color: var(--fill-color);\n",
              "    }\n",
              "    40% {\n",
              "      border-color: transparent;\n",
              "      border-right-color: var(--fill-color);\n",
              "      border-top-color: var(--fill-color);\n",
              "    }\n",
              "    60% {\n",
              "      border-color: transparent;\n",
              "      border-right-color: var(--fill-color);\n",
              "    }\n",
              "    80% {\n",
              "      border-color: transparent;\n",
              "      border-right-color: var(--fill-color);\n",
              "      border-bottom-color: var(--fill-color);\n",
              "    }\n",
              "    90% {\n",
              "      border-color: transparent;\n",
              "      border-bottom-color: var(--fill-color);\n",
              "    }\n",
              "  }\n",
              "</style>\n",
              "\n",
              "  <script>\n",
              "    async function quickchart(key) {\n",
              "      const quickchartButtonEl =\n",
              "        document.querySelector('#' + key + ' button');\n",
              "      quickchartButtonEl.disabled = true;  // To prevent multiple clicks.\n",
              "      quickchartButtonEl.classList.add('colab-df-spinner');\n",
              "      try {\n",
              "        const charts = await google.colab.kernel.invokeFunction(\n",
              "            'suggestCharts', [key], {});\n",
              "      } catch (error) {\n",
              "        console.error('Error during call to suggestCharts:', error);\n",
              "      }\n",
              "      quickchartButtonEl.classList.remove('colab-df-spinner');\n",
              "      quickchartButtonEl.classList.add('colab-df-quickchart-complete');\n",
              "    }\n",
              "    (() => {\n",
              "      let quickchartButtonEl =\n",
              "        document.querySelector('#df-c0bb00e3-8549-4b0c-b186-27f0055cdd8f button');\n",
              "      quickchartButtonEl.style.display =\n",
              "        google.colab.kernel.accessAllowed ? 'block' : 'none';\n",
              "    })();\n",
              "  </script>\n",
              "</div>\n",
              "    </div>\n",
              "  </div>\n"
            ]
          },
          "metadata": {},
          "execution_count": 9
        }
      ]
    },
    {
      "cell_type": "markdown",
      "id": "8594709d",
      "metadata": {
        "id": "8594709d"
      },
      "source": [
        "### Data Distribution"
      ]
    },
    {
      "cell_type": "code",
      "source": [
        "df['Country'].value_counts()"
      ],
      "metadata": {
        "colab": {
          "base_uri": "https://localhost:8080/"
        },
        "id": "69Nr16qML5li",
        "outputId": "273e954c-f965-4413-c238-ad97d129e04a"
      },
      "id": "69Nr16qML5li",
      "execution_count": 10,
      "outputs": [
        {
          "output_type": "execute_result",
          "data": {
            "text/plain": [
              "Turkiye            16\n",
              "Slovak Republic    16\n",
              "Latvia             16\n",
              "Angola             16\n",
              "Jamaica            16\n",
              "                   ..\n",
              "Kuwait             16\n",
              "Argentina          16\n",
              "Panama             16\n",
              "Oman               16\n",
              "Georgia            16\n",
              "Name: Country, Length: 179, dtype: int64"
            ]
          },
          "metadata": {},
          "execution_count": 10
        }
      ]
    },
    {
      "cell_type": "code",
      "source": [
        "df['Region'].value_counts()"
      ],
      "metadata": {
        "colab": {
          "base_uri": "https://localhost:8080/"
        },
        "id": "YOkb8nREqNcY",
        "outputId": "8f93c4ea-6419-4970-dc1d-aae472d25cbe"
      },
      "id": "YOkb8nREqNcY",
      "execution_count": 11,
      "outputs": [
        {
          "output_type": "execute_result",
          "data": {
            "text/plain": [
              "Africa                           816\n",
              "European Union                   432\n",
              "Asia                             432\n",
              "Central America and Caribbean    304\n",
              "Rest of Europe                   240\n",
              "Middle East                      224\n",
              "South America                    192\n",
              "Oceania                          176\n",
              "North America                     48\n",
              "Name: Region, dtype: int64"
            ]
          },
          "metadata": {},
          "execution_count": 11
        }
      ]
    },
    {
      "cell_type": "code",
      "execution_count": 12,
      "id": "8b7ca8f1",
      "metadata": {
        "id": "8b7ca8f1",
        "outputId": "750baef8-92ea-4f26-f808-b412d6a8c6b4",
        "colab": {
          "base_uri": "https://localhost:8080/",
          "height": 320
        }
      },
      "outputs": [
        {
          "output_type": "execute_result",
          "data": {
            "text/plain": [
              "              Year  Infant_deaths  Under_five_deaths  Adult_mortality  \\\n",
              "count  2864.000000    2864.000000        2864.000000      2864.000000   \n",
              "mean      7.500000      30.363792          42.938268       192.251775   \n",
              "std       4.610577      27.538117          44.569974       114.910281   \n",
              "min       0.000000       1.800000           2.300000        49.384000   \n",
              "25%       3.750000       8.100000           9.675000       106.910250   \n",
              "50%       7.500000      19.600000          23.100000       163.841500   \n",
              "75%      11.250000      47.350000          66.000000       246.791375   \n",
              "max      15.000000     138.100000         224.900000       719.360500   \n",
              "\n",
              "       Alcohol_consumption  Hepatitis_B      Measles          BMI  \\\n",
              "count          2864.000000  2864.000000  2864.000000  2864.000000   \n",
              "mean              4.820882    84.292598    77.344972    25.032926   \n",
              "std               3.981949    15.995511    18.659693     2.193905   \n",
              "min               0.000000    12.000000    10.000000    19.800000   \n",
              "25%               1.200000    78.000000    64.000000    23.200000   \n",
              "50%               4.020000    89.000000    83.000000    25.500000   \n",
              "75%               7.777500    96.000000    93.000000    26.400000   \n",
              "max              17.870000    99.000000    99.000000    32.100000   \n",
              "\n",
              "             Polio   Diphtheria  Incidents_HIV  GDP_per_capita  \\\n",
              "count  2864.000000  2864.000000    2864.000000     2864.000000   \n",
              "mean     86.499651    86.271648       0.894288    11540.924930   \n",
              "std      15.080365    15.534225       2.381389    16934.788931   \n",
              "min       8.000000    16.000000       0.010000      148.000000   \n",
              "25%      81.000000    81.000000       0.080000     1415.750000   \n",
              "50%      93.000000    93.000000       0.150000     4217.000000   \n",
              "75%      97.000000    97.000000       0.460000    12557.000000   \n",
              "max      99.000000    99.000000      21.680000   112418.000000   \n",
              "\n",
              "       Population_mln  Thinness_ten_nineteen_years  Thinness_five_nine_years  \\\n",
              "count     2864.000000                  2864.000000               2864.000000   \n",
              "mean        36.675915                     4.865852                  4.899825   \n",
              "std        136.485867                     4.438234                  4.525217   \n",
              "min          0.080000                     0.100000                  0.100000   \n",
              "25%          2.097500                     1.600000                  1.600000   \n",
              "50%          7.850000                     3.300000                  3.400000   \n",
              "75%         23.687500                     7.200000                  7.300000   \n",
              "max       1379.860000                    27.700000                 28.600000   \n",
              "\n",
              "         Schooling  Economy_status_Developed  Economy_status_Developing  \\\n",
              "count  2864.000000               2864.000000                2864.000000   \n",
              "mean      7.632123                  0.206704                   0.793296   \n",
              "std       3.171556                  0.405012                   0.405012   \n",
              "min       1.100000                  0.000000                   0.000000   \n",
              "25%       5.100000                  0.000000                   1.000000   \n",
              "50%       7.800000                  0.000000                   1.000000   \n",
              "75%      10.300000                  0.000000                   1.000000   \n",
              "max      14.100000                  1.000000                   1.000000   \n",
              "\n",
              "       Life_expectancy  \n",
              "count      2864.000000  \n",
              "mean         68.856075  \n",
              "std           9.405608  \n",
              "min          39.400000  \n",
              "25%          62.700000  \n",
              "50%          71.400000  \n",
              "75%          75.400000  \n",
              "max          83.800000  "
            ],
            "text/html": [
              "\n",
              "  <div id=\"df-613f9170-b4fb-48ae-956b-236db4f23653\" class=\"colab-df-container\">\n",
              "    <div>\n",
              "<style scoped>\n",
              "    .dataframe tbody tr th:only-of-type {\n",
              "        vertical-align: middle;\n",
              "    }\n",
              "\n",
              "    .dataframe tbody tr th {\n",
              "        vertical-align: top;\n",
              "    }\n",
              "\n",
              "    .dataframe thead th {\n",
              "        text-align: right;\n",
              "    }\n",
              "</style>\n",
              "<table border=\"1\" class=\"dataframe\">\n",
              "  <thead>\n",
              "    <tr style=\"text-align: right;\">\n",
              "      <th></th>\n",
              "      <th>Year</th>\n",
              "      <th>Infant_deaths</th>\n",
              "      <th>Under_five_deaths</th>\n",
              "      <th>Adult_mortality</th>\n",
              "      <th>Alcohol_consumption</th>\n",
              "      <th>Hepatitis_B</th>\n",
              "      <th>Measles</th>\n",
              "      <th>BMI</th>\n",
              "      <th>Polio</th>\n",
              "      <th>Diphtheria</th>\n",
              "      <th>Incidents_HIV</th>\n",
              "      <th>GDP_per_capita</th>\n",
              "      <th>Population_mln</th>\n",
              "      <th>Thinness_ten_nineteen_years</th>\n",
              "      <th>Thinness_five_nine_years</th>\n",
              "      <th>Schooling</th>\n",
              "      <th>Economy_status_Developed</th>\n",
              "      <th>Economy_status_Developing</th>\n",
              "      <th>Life_expectancy</th>\n",
              "    </tr>\n",
              "  </thead>\n",
              "  <tbody>\n",
              "    <tr>\n",
              "      <th>count</th>\n",
              "      <td>2864.000000</td>\n",
              "      <td>2864.000000</td>\n",
              "      <td>2864.000000</td>\n",
              "      <td>2864.000000</td>\n",
              "      <td>2864.000000</td>\n",
              "      <td>2864.000000</td>\n",
              "      <td>2864.000000</td>\n",
              "      <td>2864.000000</td>\n",
              "      <td>2864.000000</td>\n",
              "      <td>2864.000000</td>\n",
              "      <td>2864.000000</td>\n",
              "      <td>2864.000000</td>\n",
              "      <td>2864.000000</td>\n",
              "      <td>2864.000000</td>\n",
              "      <td>2864.000000</td>\n",
              "      <td>2864.000000</td>\n",
              "      <td>2864.000000</td>\n",
              "      <td>2864.000000</td>\n",
              "      <td>2864.000000</td>\n",
              "    </tr>\n",
              "    <tr>\n",
              "      <th>mean</th>\n",
              "      <td>7.500000</td>\n",
              "      <td>30.363792</td>\n",
              "      <td>42.938268</td>\n",
              "      <td>192.251775</td>\n",
              "      <td>4.820882</td>\n",
              "      <td>84.292598</td>\n",
              "      <td>77.344972</td>\n",
              "      <td>25.032926</td>\n",
              "      <td>86.499651</td>\n",
              "      <td>86.271648</td>\n",
              "      <td>0.894288</td>\n",
              "      <td>11540.924930</td>\n",
              "      <td>36.675915</td>\n",
              "      <td>4.865852</td>\n",
              "      <td>4.899825</td>\n",
              "      <td>7.632123</td>\n",
              "      <td>0.206704</td>\n",
              "      <td>0.793296</td>\n",
              "      <td>68.856075</td>\n",
              "    </tr>\n",
              "    <tr>\n",
              "      <th>std</th>\n",
              "      <td>4.610577</td>\n",
              "      <td>27.538117</td>\n",
              "      <td>44.569974</td>\n",
              "      <td>114.910281</td>\n",
              "      <td>3.981949</td>\n",
              "      <td>15.995511</td>\n",
              "      <td>18.659693</td>\n",
              "      <td>2.193905</td>\n",
              "      <td>15.080365</td>\n",
              "      <td>15.534225</td>\n",
              "      <td>2.381389</td>\n",
              "      <td>16934.788931</td>\n",
              "      <td>136.485867</td>\n",
              "      <td>4.438234</td>\n",
              "      <td>4.525217</td>\n",
              "      <td>3.171556</td>\n",
              "      <td>0.405012</td>\n",
              "      <td>0.405012</td>\n",
              "      <td>9.405608</td>\n",
              "    </tr>\n",
              "    <tr>\n",
              "      <th>min</th>\n",
              "      <td>0.000000</td>\n",
              "      <td>1.800000</td>\n",
              "      <td>2.300000</td>\n",
              "      <td>49.384000</td>\n",
              "      <td>0.000000</td>\n",
              "      <td>12.000000</td>\n",
              "      <td>10.000000</td>\n",
              "      <td>19.800000</td>\n",
              "      <td>8.000000</td>\n",
              "      <td>16.000000</td>\n",
              "      <td>0.010000</td>\n",
              "      <td>148.000000</td>\n",
              "      <td>0.080000</td>\n",
              "      <td>0.100000</td>\n",
              "      <td>0.100000</td>\n",
              "      <td>1.100000</td>\n",
              "      <td>0.000000</td>\n",
              "      <td>0.000000</td>\n",
              "      <td>39.400000</td>\n",
              "    </tr>\n",
              "    <tr>\n",
              "      <th>25%</th>\n",
              "      <td>3.750000</td>\n",
              "      <td>8.100000</td>\n",
              "      <td>9.675000</td>\n",
              "      <td>106.910250</td>\n",
              "      <td>1.200000</td>\n",
              "      <td>78.000000</td>\n",
              "      <td>64.000000</td>\n",
              "      <td>23.200000</td>\n",
              "      <td>81.000000</td>\n",
              "      <td>81.000000</td>\n",
              "      <td>0.080000</td>\n",
              "      <td>1415.750000</td>\n",
              "      <td>2.097500</td>\n",
              "      <td>1.600000</td>\n",
              "      <td>1.600000</td>\n",
              "      <td>5.100000</td>\n",
              "      <td>0.000000</td>\n",
              "      <td>1.000000</td>\n",
              "      <td>62.700000</td>\n",
              "    </tr>\n",
              "    <tr>\n",
              "      <th>50%</th>\n",
              "      <td>7.500000</td>\n",
              "      <td>19.600000</td>\n",
              "      <td>23.100000</td>\n",
              "      <td>163.841500</td>\n",
              "      <td>4.020000</td>\n",
              "      <td>89.000000</td>\n",
              "      <td>83.000000</td>\n",
              "      <td>25.500000</td>\n",
              "      <td>93.000000</td>\n",
              "      <td>93.000000</td>\n",
              "      <td>0.150000</td>\n",
              "      <td>4217.000000</td>\n",
              "      <td>7.850000</td>\n",
              "      <td>3.300000</td>\n",
              "      <td>3.400000</td>\n",
              "      <td>7.800000</td>\n",
              "      <td>0.000000</td>\n",
              "      <td>1.000000</td>\n",
              "      <td>71.400000</td>\n",
              "    </tr>\n",
              "    <tr>\n",
              "      <th>75%</th>\n",
              "      <td>11.250000</td>\n",
              "      <td>47.350000</td>\n",
              "      <td>66.000000</td>\n",
              "      <td>246.791375</td>\n",
              "      <td>7.777500</td>\n",
              "      <td>96.000000</td>\n",
              "      <td>93.000000</td>\n",
              "      <td>26.400000</td>\n",
              "      <td>97.000000</td>\n",
              "      <td>97.000000</td>\n",
              "      <td>0.460000</td>\n",
              "      <td>12557.000000</td>\n",
              "      <td>23.687500</td>\n",
              "      <td>7.200000</td>\n",
              "      <td>7.300000</td>\n",
              "      <td>10.300000</td>\n",
              "      <td>0.000000</td>\n",
              "      <td>1.000000</td>\n",
              "      <td>75.400000</td>\n",
              "    </tr>\n",
              "    <tr>\n",
              "      <th>max</th>\n",
              "      <td>15.000000</td>\n",
              "      <td>138.100000</td>\n",
              "      <td>224.900000</td>\n",
              "      <td>719.360500</td>\n",
              "      <td>17.870000</td>\n",
              "      <td>99.000000</td>\n",
              "      <td>99.000000</td>\n",
              "      <td>32.100000</td>\n",
              "      <td>99.000000</td>\n",
              "      <td>99.000000</td>\n",
              "      <td>21.680000</td>\n",
              "      <td>112418.000000</td>\n",
              "      <td>1379.860000</td>\n",
              "      <td>27.700000</td>\n",
              "      <td>28.600000</td>\n",
              "      <td>14.100000</td>\n",
              "      <td>1.000000</td>\n",
              "      <td>1.000000</td>\n",
              "      <td>83.800000</td>\n",
              "    </tr>\n",
              "  </tbody>\n",
              "</table>\n",
              "</div>\n",
              "    <div class=\"colab-df-buttons\">\n",
              "\n",
              "  <div class=\"colab-df-container\">\n",
              "    <button class=\"colab-df-convert\" onclick=\"convertToInteractive('df-613f9170-b4fb-48ae-956b-236db4f23653')\"\n",
              "            title=\"Convert this dataframe to an interactive table.\"\n",
              "            style=\"display:none;\">\n",
              "\n",
              "  <svg xmlns=\"http://www.w3.org/2000/svg\" height=\"24px\" viewBox=\"0 -960 960 960\">\n",
              "    <path d=\"M120-120v-720h720v720H120Zm60-500h600v-160H180v160Zm220 220h160v-160H400v160Zm0 220h160v-160H400v160ZM180-400h160v-160H180v160Zm440 0h160v-160H620v160ZM180-180h160v-160H180v160Zm440 0h160v-160H620v160Z\"/>\n",
              "  </svg>\n",
              "    </button>\n",
              "\n",
              "  <style>\n",
              "    .colab-df-container {\n",
              "      display:flex;\n",
              "      gap: 12px;\n",
              "    }\n",
              "\n",
              "    .colab-df-convert {\n",
              "      background-color: #E8F0FE;\n",
              "      border: none;\n",
              "      border-radius: 50%;\n",
              "      cursor: pointer;\n",
              "      display: none;\n",
              "      fill: #1967D2;\n",
              "      height: 32px;\n",
              "      padding: 0 0 0 0;\n",
              "      width: 32px;\n",
              "    }\n",
              "\n",
              "    .colab-df-convert:hover {\n",
              "      background-color: #E2EBFA;\n",
              "      box-shadow: 0px 1px 2px rgba(60, 64, 67, 0.3), 0px 1px 3px 1px rgba(60, 64, 67, 0.15);\n",
              "      fill: #174EA6;\n",
              "    }\n",
              "\n",
              "    .colab-df-buttons div {\n",
              "      margin-bottom: 4px;\n",
              "    }\n",
              "\n",
              "    [theme=dark] .colab-df-convert {\n",
              "      background-color: #3B4455;\n",
              "      fill: #D2E3FC;\n",
              "    }\n",
              "\n",
              "    [theme=dark] .colab-df-convert:hover {\n",
              "      background-color: #434B5C;\n",
              "      box-shadow: 0px 1px 3px 1px rgba(0, 0, 0, 0.15);\n",
              "      filter: drop-shadow(0px 1px 2px rgba(0, 0, 0, 0.3));\n",
              "      fill: #FFFFFF;\n",
              "    }\n",
              "  </style>\n",
              "\n",
              "    <script>\n",
              "      const buttonEl =\n",
              "        document.querySelector('#df-613f9170-b4fb-48ae-956b-236db4f23653 button.colab-df-convert');\n",
              "      buttonEl.style.display =\n",
              "        google.colab.kernel.accessAllowed ? 'block' : 'none';\n",
              "\n",
              "      async function convertToInteractive(key) {\n",
              "        const element = document.querySelector('#df-613f9170-b4fb-48ae-956b-236db4f23653');\n",
              "        const dataTable =\n",
              "          await google.colab.kernel.invokeFunction('convertToInteractive',\n",
              "                                                    [key], {});\n",
              "        if (!dataTable) return;\n",
              "\n",
              "        const docLinkHtml = 'Like what you see? Visit the ' +\n",
              "          '<a target=\"_blank\" href=https://colab.research.google.com/notebooks/data_table.ipynb>data table notebook</a>'\n",
              "          + ' to learn more about interactive tables.';\n",
              "        element.innerHTML = '';\n",
              "        dataTable['output_type'] = 'display_data';\n",
              "        await google.colab.output.renderOutput(dataTable, element);\n",
              "        const docLink = document.createElement('div');\n",
              "        docLink.innerHTML = docLinkHtml;\n",
              "        element.appendChild(docLink);\n",
              "      }\n",
              "    </script>\n",
              "  </div>\n",
              "\n",
              "\n",
              "<div id=\"df-68cb4a6a-cdbb-4440-b70b-7215c8b82450\">\n",
              "  <button class=\"colab-df-quickchart\" onclick=\"quickchart('df-68cb4a6a-cdbb-4440-b70b-7215c8b82450')\"\n",
              "            title=\"Suggest charts\"\n",
              "            style=\"display:none;\">\n",
              "\n",
              "<svg xmlns=\"http://www.w3.org/2000/svg\" height=\"24px\"viewBox=\"0 0 24 24\"\n",
              "     width=\"24px\">\n",
              "    <g>\n",
              "        <path d=\"M19 3H5c-1.1 0-2 .9-2 2v14c0 1.1.9 2 2 2h14c1.1 0 2-.9 2-2V5c0-1.1-.9-2-2-2zM9 17H7v-7h2v7zm4 0h-2V7h2v10zm4 0h-2v-4h2v4z\"/>\n",
              "    </g>\n",
              "</svg>\n",
              "  </button>\n",
              "\n",
              "<style>\n",
              "  .colab-df-quickchart {\n",
              "      --bg-color: #E8F0FE;\n",
              "      --fill-color: #1967D2;\n",
              "      --hover-bg-color: #E2EBFA;\n",
              "      --hover-fill-color: #174EA6;\n",
              "      --disabled-fill-color: #AAA;\n",
              "      --disabled-bg-color: #DDD;\n",
              "  }\n",
              "\n",
              "  [theme=dark] .colab-df-quickchart {\n",
              "      --bg-color: #3B4455;\n",
              "      --fill-color: #D2E3FC;\n",
              "      --hover-bg-color: #434B5C;\n",
              "      --hover-fill-color: #FFFFFF;\n",
              "      --disabled-bg-color: #3B4455;\n",
              "      --disabled-fill-color: #666;\n",
              "  }\n",
              "\n",
              "  .colab-df-quickchart {\n",
              "    background-color: var(--bg-color);\n",
              "    border: none;\n",
              "    border-radius: 50%;\n",
              "    cursor: pointer;\n",
              "    display: none;\n",
              "    fill: var(--fill-color);\n",
              "    height: 32px;\n",
              "    padding: 0;\n",
              "    width: 32px;\n",
              "  }\n",
              "\n",
              "  .colab-df-quickchart:hover {\n",
              "    background-color: var(--hover-bg-color);\n",
              "    box-shadow: 0 1px 2px rgba(60, 64, 67, 0.3), 0 1px 3px 1px rgba(60, 64, 67, 0.15);\n",
              "    fill: var(--button-hover-fill-color);\n",
              "  }\n",
              "\n",
              "  .colab-df-quickchart-complete:disabled,\n",
              "  .colab-df-quickchart-complete:disabled:hover {\n",
              "    background-color: var(--disabled-bg-color);\n",
              "    fill: var(--disabled-fill-color);\n",
              "    box-shadow: none;\n",
              "  }\n",
              "\n",
              "  .colab-df-spinner {\n",
              "    border: 2px solid var(--fill-color);\n",
              "    border-color: transparent;\n",
              "    border-bottom-color: var(--fill-color);\n",
              "    animation:\n",
              "      spin 1s steps(1) infinite;\n",
              "  }\n",
              "\n",
              "  @keyframes spin {\n",
              "    0% {\n",
              "      border-color: transparent;\n",
              "      border-bottom-color: var(--fill-color);\n",
              "      border-left-color: var(--fill-color);\n",
              "    }\n",
              "    20% {\n",
              "      border-color: transparent;\n",
              "      border-left-color: var(--fill-color);\n",
              "      border-top-color: var(--fill-color);\n",
              "    }\n",
              "    30% {\n",
              "      border-color: transparent;\n",
              "      border-left-color: var(--fill-color);\n",
              "      border-top-color: var(--fill-color);\n",
              "      border-right-color: var(--fill-color);\n",
              "    }\n",
              "    40% {\n",
              "      border-color: transparent;\n",
              "      border-right-color: var(--fill-color);\n",
              "      border-top-color: var(--fill-color);\n",
              "    }\n",
              "    60% {\n",
              "      border-color: transparent;\n",
              "      border-right-color: var(--fill-color);\n",
              "    }\n",
              "    80% {\n",
              "      border-color: transparent;\n",
              "      border-right-color: var(--fill-color);\n",
              "      border-bottom-color: var(--fill-color);\n",
              "    }\n",
              "    90% {\n",
              "      border-color: transparent;\n",
              "      border-bottom-color: var(--fill-color);\n",
              "    }\n",
              "  }\n",
              "</style>\n",
              "\n",
              "  <script>\n",
              "    async function quickchart(key) {\n",
              "      const quickchartButtonEl =\n",
              "        document.querySelector('#' + key + ' button');\n",
              "      quickchartButtonEl.disabled = true;  // To prevent multiple clicks.\n",
              "      quickchartButtonEl.classList.add('colab-df-spinner');\n",
              "      try {\n",
              "        const charts = await google.colab.kernel.invokeFunction(\n",
              "            'suggestCharts', [key], {});\n",
              "      } catch (error) {\n",
              "        console.error('Error during call to suggestCharts:', error);\n",
              "      }\n",
              "      quickchartButtonEl.classList.remove('colab-df-spinner');\n",
              "      quickchartButtonEl.classList.add('colab-df-quickchart-complete');\n",
              "    }\n",
              "    (() => {\n",
              "      let quickchartButtonEl =\n",
              "        document.querySelector('#df-68cb4a6a-cdbb-4440-b70b-7215c8b82450 button');\n",
              "      quickchartButtonEl.style.display =\n",
              "        google.colab.kernel.accessAllowed ? 'block' : 'none';\n",
              "    })();\n",
              "  </script>\n",
              "</div>\n",
              "    </div>\n",
              "  </div>\n"
            ]
          },
          "metadata": {},
          "execution_count": 12
        }
      ],
      "source": [
        "df.describe()"
      ]
    },
    {
      "cell_type": "code",
      "execution_count": 13,
      "id": "a4a6609f",
      "metadata": {
        "id": "a4a6609f",
        "outputId": "6b0ad18e-7f4d-4f6b-bbd0-007b1b85f48e",
        "colab": {
          "base_uri": "https://localhost:8080/",
          "height": 430
        }
      },
      "outputs": [
        {
          "output_type": "display_data",
          "data": {
            "text/plain": [
              "<Figure size 640x480 with 1 Axes>"
            ],
            "image/png": "[encoded data removed]"
          },
          "metadata": {}
        }
      ],
      "source": [
        "boxplot = df.boxplot(column='Infant_deaths')"
      ]
    },
    {
      "cell_type": "code",
      "execution_count": 14,
      "id": "dde96227",
      "metadata": {
        "id": "dde96227",
        "outputId": "55d127e2-8dcc-4d4a-c893-41c70db53683",
        "colab": {
          "base_uri": "https://localhost:8080/",
          "height": 430
        }
      },
      "outputs": [
        {
          "output_type": "display_data",
          "data": {
            "text/plain": [
              "<Figure size 640x480 with 1 Axes>"
            ],
            "image/png": "[encoded data removed]"
          },
          "metadata": {}
        }
      ],
      "source": [
        "boxplot = df.boxplot(column='Under_five_deaths')"
      ]
    },
    {
      "cell_type": "code",
      "execution_count": 15,
      "id": "d6038d32",
      "metadata": {
        "id": "d6038d32",
        "outputId": "0606aa02-78eb-4490-d3fc-cfaa1806f159",
        "colab": {
          "base_uri": "https://localhost:8080/",
          "height": 430
        }
      },
      "outputs": [
        {
          "output_type": "display_data",
          "data": {
            "text/plain": [
              "<Figure size 640x480 with 1 Axes>"
            ],
            "image/png": "[encoded data removed]"
          },
          "metadata": {}
        }
      ],
      "source": [
        "boxplot = df.boxplot(column='Adult_mortality')"
      ]
    },
    {
      "cell_type": "code",
      "execution_count": 16,
      "id": "654afb1c",
      "metadata": {
        "id": "654afb1c",
        "outputId": "994a10fe-3fce-4189-f37a-f788145fc426",
        "colab": {
          "base_uri": "https://localhost:8080/",
          "height": 430
        }
      },
      "outputs": [
        {
          "output_type": "display_data",
          "data": {
            "text/plain": [
              "<Figure size 640x480 with 1 Axes>"
            ],
            "image/png": "[encoded data removed]"
          },
          "metadata": {}
        }
      ],
      "source": [
        "boxplot = df.boxplot(column='Alcohol_consumption')"
      ]
    },
    {
      "cell_type": "code",
      "execution_count": 17,
      "id": "14364f14",
      "metadata": {
        "id": "14364f14",
        "outputId": "886131f8-af97-400a-c8ac-cd0c8c95536a",
        "colab": {
          "base_uri": "https://localhost:8080/",
          "height": 430
        }
      },
      "outputs": [
        {
          "output_type": "display_data",
          "data": {
            "text/plain": [
              "<Figure size 640x480 with 1 Axes>"
            ],
            "image/png": "[encoded data removed]"
          },
          "metadata": {}
        }
      ],
      "source": [
        "boxplot = df.boxplot(column='Hepatitis_B')"
      ]
    },
    {
      "cell_type": "code",
      "execution_count": 18,
      "id": "ef4498bb",
      "metadata": {
        "id": "ef4498bb",
        "outputId": "e0dc7e9a-199e-45e9-e09c-e8db644c2aeb",
        "colab": {
          "base_uri": "https://localhost:8080/",
          "height": 430
        }
      },
      "outputs": [
        {
          "output_type": "display_data",
          "data": {
            "text/plain": [
              "<Figure size 640x480 with 1 Axes>"
            ],
            "image/png": "[encoded data removed]"
          },
          "metadata": {}
        }
      ],
      "source": [
        "boxplot = df.boxplot(column='Measles')"
      ]
    },
    {
      "cell_type": "code",
      "execution_count": 19,
      "id": "2b0daaa1",
      "metadata": {
        "id": "2b0daaa1",
        "outputId": "f3eabfe4-c5ac-4fb4-c6da-990a7b059d20",
        "colab": {
          "base_uri": "https://localhost:8080/",
          "height": 430
        }
      },
      "outputs": [
        {
          "output_type": "display_data",
          "data": {
            "text/plain": [
              "<Figure size 640x480 with 1 Axes>"
            ],
            "image/png": "[encoded data removed]"
          },
          "metadata": {}
        }
      ],
      "source": [
        "boxplot = df.boxplot(column='BMI')"
      ]
    },
    {
      "cell_type": "code",
      "execution_count": 20,
      "id": "08048cf3",
      "metadata": {
        "id": "08048cf3",
        "outputId": "d3b0b24c-fc73-4d4b-e683-c505e128d41a",
        "colab": {
          "base_uri": "https://localhost:8080/",
          "height": 430
        }
      },
      "outputs": [
        {
          "output_type": "display_data",
          "data": {
            "text/plain": [
              "<Figure size 640x480 with 1 Axes>"
            ],
            "image/png": "[encoded data removed]"
          },
          "metadata": {}
        }
      ],
      "source": [
        "boxplot = df.boxplot(column='Polio')"
      ]
    },
    {
      "cell_type": "code",
      "execution_count": 21,
      "id": "9402c517",
      "metadata": {
        "id": "9402c517",
        "outputId": "69afb4f4-8ef0-4f06-d1eb-f9919c695f2f",
        "colab": {
          "base_uri": "https://localhost:8080/",
          "height": 430
        }
      },
      "outputs": [
        {
          "output_type": "display_data",
          "data": {
            "text/plain": [
              "<Figure size 640x480 with 1 Axes>"
            ],
            "image/png": "[encoded data removed]"
          },
          "metadata": {}
        }
      ],
      "source": [
        "boxplot = df.boxplot(column='Diphtheria')"
      ]
    },
    {
      "cell_type": "code",
      "execution_count": 22,
      "id": "f35f425d",
      "metadata": {
        "id": "f35f425d",
        "outputId": "d78b7358-2d60-4926-e97b-89f4a5513644",
        "colab": {
          "base_uri": "https://localhost:8080/",
          "height": 430
        }
      },
      "outputs": [
        {
          "output_type": "display_data",
          "data": {
            "text/plain": [
              "<Figure size 640x480 with 1 Axes>"
            ],
            "image/png": "[encoded data removed]"
          },
          "metadata": {}
        }
      ],
      "source": [
        "boxplot = df.boxplot(column='Incidents_HIV')"
      ]
    },
    {
      "cell_type": "code",
      "execution_count": 23,
      "id": "1b44092c",
      "metadata": {
        "id": "1b44092c",
        "outputId": "2ec14c9a-4206-489c-d534-766efaf43b55",
        "colab": {
          "base_uri": "https://localhost:8080/",
          "height": 430
        }
      },
      "outputs": [
        {
          "output_type": "display_data",
          "data": {
            "text/plain": [
              "<Figure size 640x480 with 1 Axes>"
            ],
            "image/png": "[encoded data removed]"
          },
          "metadata": {}
        }
      ],
      "source": [
        "boxplot = df.boxplot(column='GDP_per_capita')"
      ]
    },
    {
      "cell_type": "code",
      "execution_count": 24,
      "id": "a57e53c9",
      "metadata": {
        "id": "a57e53c9",
        "outputId": "d6dc004f-4e28-47c7-f71c-f389da695a38",
        "colab": {
          "base_uri": "https://localhost:8080/",
          "height": 430
        }
      },
      "outputs": [
        {
          "output_type": "display_data",
          "data": {
            "text/plain": [
              "<Figure size 640x480 with 1 Axes>"
            ],
            "image/png": "[encoded data removed]"
          },
          "metadata": {}
        }
      ],
      "source": [
        "boxplot = df.boxplot(column='Population_mln')"
      ]
    },
    {
      "cell_type": "code",
      "execution_count": 25,
      "id": "3a83018a",
      "metadata": {
        "id": "3a83018a",
        "outputId": "beb8e40e-caba-42cc-cc03-8335d3af3561",
        "colab": {
          "base_uri": "https://localhost:8080/",
          "height": 430
        }
      },
      "outputs": [
        {
          "output_type": "display_data",
          "data": {
            "text/plain": [
              "<Figure size 640x480 with 1 Axes>"
            ],
            "image/png": "[encoded data removed]"
          },
          "metadata": {}
        }
      ],
      "source": [
        "boxplot = df.boxplot(column='Thinness_ten_nineteen_years')"
      ]
    },
    {
      "cell_type": "code",
      "execution_count": 26,
      "id": "f0f10fdf",
      "metadata": {
        "id": "f0f10fdf",
        "outputId": "538a7112-fb08-4097-c002-b15de83eebd9",
        "colab": {
          "base_uri": "https://localhost:8080/",
          "height": 435
        }
      },
      "outputs": [
        {
          "output_type": "display_data",
          "data": {
            "text/plain": [
              "<Figure size 640x480 with 1 Axes>"
            ],
            "image/png": "[encoded data removed]"
          },
          "metadata": {}
        }
      ],
      "source": [
        "boxplot = df.boxplot(column='Thinness_five_nine_years')"
      ]
    },
    {
      "cell_type": "code",
      "execution_count": 27,
      "id": "753d7514",
      "metadata": {
        "id": "753d7514",
        "outputId": "8eca17d4-4bef-4671-a4cc-58cd6eea3849",
        "colab": {
          "base_uri": "https://localhost:8080/",
          "height": 430
        }
      },
      "outputs": [
        {
          "output_type": "display_data",
          "data": {
            "text/plain": [
              "<Figure size 640x480 with 1 Axes>"
            ],
            "image/png": "[encoded data removed]"
          },
          "metadata": {}
        }
      ],
      "source": [
        "boxplot = df.boxplot(column='Schooling')"
      ]
    },
    {
      "cell_type": "markdown",
      "source": [
        "### Splitting Data"
      ],
      "metadata": {
        "id": "uUOM6HuVCgbz"
      },
      "id": "uUOM6HuVCgbz"
    },
    {
      "cell_type": "markdown",
      "source": [
        "The dataset is splitted into 80% training data and 20% testing data."
      ],
      "metadata": {
        "id": "-I-t_YCJVrkU"
      },
      "id": "-I-t_YCJVrkU"
    },
    {
      "cell_type": "code",
      "source": [
        "input_df=df.drop('Life_expectancy',axis=1)\n",
        "output_df=df['Life_expectancy']"
      ],
      "metadata": {
        "id": "H40PUfPPCoEZ"
      },
      "id": "H40PUfPPCoEZ",
      "execution_count": 28,
      "outputs": []
    },
    {
      "cell_type": "code",
      "source": [
        "from sklearn.model_selection import train_test_split\n",
        "x_train, x_test, y_train, y_test = train_test_split(input_df, output_df, test_size = 0.2, random_state = 42)"
      ],
      "metadata": {
        "id": "owH5opf1DO22"
      },
      "id": "owH5opf1DO22",
      "execution_count": 29,
      "outputs": []
    },
    {
      "cell_type": "markdown",
      "source": [
        "### Feature Engineering"
      ],
      "metadata": {
        "id": "pQ1zCxV0tEhz"
      },
      "id": "pQ1zCxV0tEhz"
    },
    {
      "cell_type": "markdown",
      "source": [
        "Because Region and Country are categorical variables, it should be encoded into numerical variables by using frequency encoding."
      ],
      "metadata": {
        "id": "qe0G1qqBV4dN"
      },
      "id": "qe0G1qqBV4dN"
    },
    {
      "cell_type": "code",
      "source": [
        "def features_encode(data,features):\n",
        "    freq_encoding=data.groupby(features).size()/len(data)\n",
        "    return freq_encoding\n",
        "\n",
        "x_train['Region']=x_train['Region'].map(features_encode(x_train,x_train['Region']))\n",
        "x_test['Region']=x_test['Region'].map(features_encode(x_test,x_test['Region']))\n",
        "\n",
        "x_train['Country']=x_train['Country'].map(features_encode(x_train,x_train['Country']))\n",
        "x_test['Country']=x_test['Country'].map(features_encode(x_test,x_test['Country']))"
      ],
      "metadata": {
        "id": "O4ox3yDPtHdw"
      },
      "id": "O4ox3yDPtHdw",
      "execution_count": 30,
      "outputs": []
    },
    {
      "cell_type": "markdown",
      "source": [
        "### Modeling - Bagging"
      ],
      "metadata": {
        "id": "8LDL3azjDUMV"
      },
      "id": "8LDL3azjDUMV"
    },
    {
      "cell_type": "markdown",
      "source": [
        "For the modeling, we use Bagging as it can helps to reduce variance and improve the overall performance of the model. Also, it is robust to outliers to some extent."
      ],
      "metadata": {
        "id": "wsdMr074WJAO"
      },
      "id": "wsdMr074WJAO"
    },
    {
      "cell_type": "code",
      "source": [
        "from sklearn.tree import DecisionTreeClassifier\n",
        "from sklearn.ensemble import BaggingRegressor\n",
        "import warnings\n",
        "warnings.filterwarnings('ignore')\n",
        "\n",
        "Bagging_class = BaggingRegressor(oob_score = True)\n",
        "Bagging_class.fit(x_train, y_train)"
      ],
      "metadata": {
        "colab": {
          "base_uri": "https://localhost:8080/",
          "height": 74
        },
        "id": "Tg47ROyLD8pu",
        "outputId": "2d4e8866-34ce-4df3-a9ed-e734758fe3f5"
      },
      "id": "Tg47ROyLD8pu",
      "execution_count": 31,
      "outputs": [
        {
          "output_type": "execute_result",
          "data": {
            "text/plain": [
              "BaggingRegressor(oob_score=True)"
            ],
            "text/html": [
              "<style>#sk-container-id-1 {color: black;background-color: white;}#sk-container-id-1 pre{padding: 0;}#sk-container-id-1 div.sk-toggleable {background-color: white;}#sk-container-id-1 label.sk-toggleable__label {cursor: pointer;display: block;width: 100%;margin-bottom: 0;padding: 0.3em;box-sizing: border-box;text-align: center;}#sk-container-id-1 label.sk-toggleable__label-arrow:before {content: \"▸\";float: left;margin-right: 0.25em;color: #696969;}#sk-container-id-1 label.sk-toggleable__label-arrow:hover:before {color: black;}#sk-container-id-1 div.sk-estimator:hover label.sk-toggleable__label-arrow:before {color: black;}#sk-container-id-1 div.sk-toggleable__content {max-height: 0;max-width: 0;overflow: hidden;text-align: left;background-color: #f0f8ff;}#sk-container-id-1 div.sk-toggleable__content pre {margin: 0.2em;color: black;border-radius: 0.25em;background-color: #f0f8ff;}#sk-container-id-1 input.sk-toggleable__control:checked~div.sk-toggleable__content {max-height: 200px;max-width: 100%;overflow: auto;}#sk-container-id-1 input.sk-toggleable__control:checked~label.sk-toggleable__label-arrow:before {content: \"▾\";}#sk-container-id-1 div.sk-estimator input.sk-toggleable__control:checked~label.sk-toggleable__label {background-color: #d4ebff;}#sk-container-id-1 div.sk-label input.sk-toggleable__control:checked~label.sk-toggleable__label {background-color: #d4ebff;}#sk-container-id-1 input.sk-hidden--visually {border: 0;clip: rect(1px 1px 1px 1px);clip: rect(1px, 1px, 1px, 1px);height: 1px;margin: -1px;overflow: hidden;padding: 0;position: absolute;width: 1px;}#sk-container-id-1 div.sk-estimator {font-family: monospace;background-color: #f0f8ff;border: 1px dotted black;border-radius: 0.25em;box-sizing: border-box;margin-bottom: 0.5em;}#sk-container-id-1 div.sk-estimator:hover {background-color: #d4ebff;}#sk-container-id-1 div.sk-parallel-item::after {content: \"\";width: 100%;border-bottom: 1px solid gray;flex-grow: 1;}#sk-container-id-1 div.sk-label:hover label.sk-toggleable__label {background-color: #d4ebff;}#sk-container-id-1 div.sk-serial::before {content: \"\";position: absolute;border-left: 1px solid gray;box-sizing: border-box;top: 0;bottom: 0;left: 50%;z-index: 0;}#sk-container-id-1 div.sk-serial {display: flex;flex-direction: column;align-items: center;background-color: white;padding-right: 0.2em;padding-left: 0.2em;position: relative;}#sk-container-id-1 div.sk-item {position: relative;z-index: 1;}#sk-container-id-1 div.sk-parallel {display: flex;align-items: stretch;justify-content: center;background-color: white;position: relative;}#sk-container-id-1 div.sk-item::before, #sk-container-id-1 div.sk-parallel-item::before {content: \"\";position: absolute;border-left: 1px solid gray;box-sizing: border-box;top: 0;bottom: 0;left: 50%;z-index: -1;}#sk-container-id-1 div.sk-parallel-item {display: flex;flex-direction: column;z-index: 1;position: relative;background-color: white;}#sk-container-id-1 div.sk-parallel-item:first-child::after {align-self: flex-end;width: 50%;}#sk-container-id-1 div.sk-parallel-item:last-child::after {align-self: flex-start;width: 50%;}#sk-container-id-1 div.sk-parallel-item:only-child::after {width: 0;}#sk-container-id-1 div.sk-dashed-wrapped {border: 1px dashed gray;margin: 0 0.4em 0.5em 0.4em;box-sizing: border-box;padding-bottom: 0.4em;background-color: white;}#sk-container-id-1 div.sk-label label {font-family: monospace;font-weight: bold;display: inline-block;line-height: 1.2em;}#sk-container-id-1 div.sk-label-container {text-align: center;}#sk-container-id-1 div.sk-container {/* jupyter's `normalize.less` sets `[hidden] { display: none; }` but bootstrap.min.css set `[hidden] { display: none !important; }` so we also need the `!important` here to be able to override the default hidden behavior on the sphinx rendered scikit-learn.org. See: https://github.com/scikit-learn/scikit-learn/issues/21755 */display: inline-block !important;position: relative;}#sk-container-id-1 div.sk-text-repr-fallback {display: none;}</style><div id=\"sk-container-id-1\" class=\"sk-top-container\"><div class=\"sk-text-repr-fallback\"><pre>BaggingRegressor(oob_score=True)</pre><b>In a Jupyter environment, please rerun this cell to show the HTML representation or trust the notebook. <br />On GitHub, the HTML representation is unable to render, please try loading this page with nbviewer.org.</b></div><div class=\"sk-container\" hidden><div class=\"sk-item\"><div class=\"sk-estimator sk-toggleable\"><input class=\"sk-toggleable__control sk-hidden--visually\" id=\"sk-estimator-id-1\" type=\"checkbox\" checked><label for=\"sk-estimator-id-1\" class=\"sk-toggleable__label sk-toggleable__label-arrow\">BaggingRegressor</label><div class=\"sk-toggleable__content\"><pre>BaggingRegressor(oob_score=True)</pre></div></div></div></div></div>"
            ]
          },
          "metadata": {},
          "execution_count": 31
        }
      ]
    },
    {
      "cell_type": "code",
      "source": [
        "Bagging_class.oob_score_"
      ],
      "metadata": {
        "colab": {
          "base_uri": "https://localhost:8080/"
        },
        "id": "nfXndhSNv4z_",
        "outputId": "54aea91e-4727-4452-c82d-8dfdb83e866e"
      },
      "id": "nfXndhSNv4z_",
      "execution_count": 32,
      "outputs": [
        {
          "output_type": "execute_result",
          "data": {
            "text/plain": [
              "0.653075071316298"
            ]
          },
          "metadata": {},
          "execution_count": 32
        }
      ]
    },
    {
      "cell_type": "code",
      "source": [
        "y_predict=Bagging_class.predict(x_test)"
      ],
      "metadata": {
        "id": "Gznfe1U6wAAi"
      },
      "id": "Gznfe1U6wAAi",
      "execution_count": 33,
      "outputs": []
    },
    {
      "cell_type": "code",
      "source": [
        "y_train_predict = Bagging_class.predict(x_train)"
      ],
      "metadata": {
        "id": "1rQSvlZi3YHu"
      },
      "id": "1rQSvlZi3YHu",
      "execution_count": 34,
      "outputs": []
    },
    {
      "cell_type": "code",
      "source": [
        "from sklearn.metrics import r2_score\n",
        "from sklearn.metrics import mean_absolute_error\n",
        "from sklearn.metrics import mean_squared_error\n",
        "print('MAE Test =',mean_absolute_error(y_test, y_predict))\n",
        "print('MSE Test =',mean_squared_error(y_test, y_predict))\n",
        "print('R squared Test =',r2_score(y_test, y_predict))"
      ],
      "metadata": {
        "colab": {
          "base_uri": "https://localhost:8080/"
        },
        "id": "RxwgcHCLwDzU",
        "outputId": "d6c56c3a-8d9a-44ab-b875-9807b016c62e"
      },
      "id": "RxwgcHCLwDzU",
      "execution_count": 35,
      "outputs": [
        {
          "output_type": "stream",
          "name": "stdout",
          "text": [
            "MAE Test = 0.5211867364746944\n",
            "MSE Test = 0.5137040139616046\n",
            "R squared Test = 0.9938101390232\n"
          ]
        }
      ]
    },
    {
      "cell_type": "code",
      "source": [
        "print('MAE Train =',mean_absolute_error(y_train, y_train_predict))\n",
        "print('MSE Train =',mean_squared_error(y_train, y_train_predict))\n",
        "print('R squared Train =',r2_score(y_train, y_train_predict))"
      ],
      "metadata": {
        "colab": {
          "base_uri": "https://localhost:8080/"
        },
        "id": "4LUvdw5a2kh9",
        "outputId": "a0595c46-724c-4afe-93b8-e5b7d6d7c9cb"
      },
      "id": "4LUvdw5a2kh9",
      "execution_count": 36,
      "outputs": [
        {
          "output_type": "stream",
          "name": "stdout",
          "text": [
            "MAE Train = 0.1829113924050633\n",
            "MSE Train = 0.0797333478830204\n",
            "R squared Train = 0.9991118897597467\n"
          ]
        }
      ]
    },
    {
      "cell_type": "code",
      "source": [
        "from sklearn.metrics import PredictionErrorDisplay\n",
        "disp = PredictionErrorDisplay.from_predictions(y_test, y_predict, kind = 'actual_vs_predicted')\n",
        "plt.show()"
      ],
      "metadata": {
        "colab": {
          "base_uri": "https://localhost:8080/",
          "height": 449
        },
        "id": "jt-HtwbIzMrc",
        "outputId": "27de6a58-d5cc-4f48-8040-719fefa76ef6"
      },
      "id": "jt-HtwbIzMrc",
      "execution_count": 37,
      "outputs": [
        {
          "output_type": "display_data",
          "data": {
            "text/plain": [
              "<Figure size 640x480 with 1 Axes>"
            ],
            "image/png": "[encoded data removed]"
          },
          "metadata": {}
        }
      ]
    },
    {
      "cell_type": "markdown",
      "source": [
        "### Feature Scaling"
      ],
      "metadata": {
        "id": "jiFhqXyi1-FT"
      },
      "id": "jiFhqXyi1-FT"
    },
    {
      "cell_type": "markdown",
      "source": [
        "There are some variables that have bigger scale than the other. Therefore, we perform feature scaling to reduce the scale, so every variables have a similar scale."
      ],
      "metadata": {
        "id": "1eyEo9VkW1fj"
      },
      "id": "1eyEo9VkW1fj"
    },
    {
      "cell_type": "code",
      "source": [
        "x_train.head()"
      ],
      "metadata": {
        "colab": {
          "base_uri": "https://localhost:8080/",
          "height": 226
        },
        "id": "D6C6FhVrIQtm",
        "outputId": "60c6c552-1971-46af-d90b-2d0cb91fa8b7"
      },
      "id": "D6C6FhVrIQtm",
      "execution_count": 38,
      "outputs": [
        {
          "output_type": "execute_result",
          "data": {
            "text/plain": [
              "       Country    Region  Year  Infant_deaths  Under_five_deaths  \\\n",
              "2026  0.005238  0.147097    14            7.9                9.3   \n",
              "651   0.005238  0.149716     4            3.7                4.6   \n",
              "2225  0.005674  0.070275    14           15.4               18.0   \n",
              "2357  0.006111  0.086862    10           11.8               13.3   \n",
              "670   0.005674  0.290266     3           43.3               74.4   \n",
              "\n",
              "      Adult_mortality  Alcohol_consumption  Hepatitis_B  Measles   BMI  Polio  \\\n",
              "2026         111.2825                 2.45           99       99  22.9     99   \n",
              "651          114.2985                13.42           98       98  26.6     96   \n",
              "2225         143.0785                 6.60           78       83  26.6     79   \n",
              "2357          80.9365                 4.88           99       98  26.1     99   \n",
              "670          495.7265                 2.29           83       64  23.2     82   \n",
              "\n",
              "      Diphtheria  Incidents_HIV  GDP_per_capita  Population_mln  \\\n",
              "2026          99           0.01            3694           20.78   \n",
              "651           98           0.08           14070           10.20   \n",
              "2225          78           0.40           16056           30.04   \n",
              "2357          99           0.03            3577            2.91   \n",
              "670           79           9.74            3298            1.88   \n",
              "\n",
              "      Thinness_ten_nineteen_years  Thinness_five_nine_years  Schooling  \\\n",
              "2026                         15.2                      15.0       10.9   \n",
              "651                           2.1                       2.2       11.6   \n",
              "2225                          1.6                       1.5       10.0   \n",
              "2357                          1.4                       1.5        9.3   \n",
              "670                          14.2                      14.3        5.8   \n",
              "\n",
              "      Economy_status_Developed  Economy_status_Developing  \n",
              "2026                         0                          1  \n",
              "651                          1                          0  \n",
              "2225                         0                          1  \n",
              "2357                         0                          1  \n",
              "670                          0                          1  "
            ],
            "text/html": [
              "\n",
              "  <div id=\"df-82b17ef8-fed0-44f2-8b7e-b0788b99650c\" class=\"colab-df-container\">\n",
              "    <div>\n",
              "<style scoped>\n",
              "    .dataframe tbody tr th:only-of-type {\n",
              "        vertical-align: middle;\n",
              "    }\n",
              "\n",
              "    .dataframe tbody tr th {\n",
              "        vertical-align: top;\n",
              "    }\n",
              "\n",
              "    .dataframe thead th {\n",
              "        text-align: right;\n",
              "    }\n",
              "</style>\n",
              "<table border=\"1\" class=\"dataframe\">\n",
              "  <thead>\n",
              "    <tr style=\"text-align: right;\">\n",
              "      <th></th>\n",
              "      <th>Country</th>\n",
              "      <th>Region</th>\n",
              "      <th>Year</th>\n",
              "      <th>Infant_deaths</th>\n",
              "      <th>Under_five_deaths</th>\n",
              "      <th>Adult_mortality</th>\n",
              "      <th>Alcohol_consumption</th>\n",
              "      <th>Hepatitis_B</th>\n",
              "      <th>Measles</th>\n",
              "      <th>BMI</th>\n",
              "      <th>Polio</th>\n",
              "      <th>Diphtheria</th>\n",
              "      <th>Incidents_HIV</th>\n",
              "      <th>GDP_per_capita</th>\n",
              "      <th>Population_mln</th>\n",
              "      <th>Thinness_ten_nineteen_years</th>\n",
              "      <th>Thinness_five_nine_years</th>\n",
              "      <th>Schooling</th>\n",
              "      <th>Economy_status_Developed</th>\n",
              "      <th>Economy_status_Developing</th>\n",
              "    </tr>\n",
              "  </thead>\n",
              "  <tbody>\n",
              "    <tr>\n",
              "      <th>2026</th>\n",
              "      <td>0.005238</td>\n",
              "      <td>0.147097</td>\n",
              "      <td>14</td>\n",
              "      <td>7.9</td>\n",
              "      <td>9.3</td>\n",
              "      <td>111.2825</td>\n",
              "      <td>2.45</td>\n",
              "      <td>99</td>\n",
              "      <td>99</td>\n",
              "      <td>22.9</td>\n",
              "      <td>99</td>\n",
              "      <td>99</td>\n",
              "      <td>0.01</td>\n",
              "      <td>3694</td>\n",
              "      <td>20.78</td>\n",
              "      <td>15.2</td>\n",
              "      <td>15.0</td>\n",
              "      <td>10.9</td>\n",
              "      <td>0</td>\n",
              "      <td>1</td>\n",
              "    </tr>\n",
              "    <tr>\n",
              "      <th>651</th>\n",
              "      <td>0.005238</td>\n",
              "      <td>0.149716</td>\n",
              "      <td>4</td>\n",
              "      <td>3.7</td>\n",
              "      <td>4.6</td>\n",
              "      <td>114.2985</td>\n",
              "      <td>13.42</td>\n",
              "      <td>98</td>\n",
              "      <td>98</td>\n",
              "      <td>26.6</td>\n",
              "      <td>96</td>\n",
              "      <td>98</td>\n",
              "      <td>0.08</td>\n",
              "      <td>14070</td>\n",
              "      <td>10.20</td>\n",
              "      <td>2.1</td>\n",
              "      <td>2.2</td>\n",
              "      <td>11.6</td>\n",
              "      <td>1</td>\n",
              "      <td>0</td>\n",
              "    </tr>\n",
              "    <tr>\n",
              "      <th>2225</th>\n",
              "      <td>0.005674</td>\n",
              "      <td>0.070275</td>\n",
              "      <td>14</td>\n",
              "      <td>15.4</td>\n",
              "      <td>18.0</td>\n",
              "      <td>143.0785</td>\n",
              "      <td>6.60</td>\n",
              "      <td>78</td>\n",
              "      <td>83</td>\n",
              "      <td>26.6</td>\n",
              "      <td>79</td>\n",
              "      <td>78</td>\n",
              "      <td>0.40</td>\n",
              "      <td>16056</td>\n",
              "      <td>30.04</td>\n",
              "      <td>1.6</td>\n",
              "      <td>1.5</td>\n",
              "      <td>10.0</td>\n",
              "      <td>0</td>\n",
              "      <td>1</td>\n",
              "    </tr>\n",
              "    <tr>\n",
              "      <th>2357</th>\n",
              "      <td>0.006111</td>\n",
              "      <td>0.086862</td>\n",
              "      <td>10</td>\n",
              "      <td>11.8</td>\n",
              "      <td>13.3</td>\n",
              "      <td>80.9365</td>\n",
              "      <td>4.88</td>\n",
              "      <td>99</td>\n",
              "      <td>98</td>\n",
              "      <td>26.1</td>\n",
              "      <td>99</td>\n",
              "      <td>99</td>\n",
              "      <td>0.03</td>\n",
              "      <td>3577</td>\n",
              "      <td>2.91</td>\n",
              "      <td>1.4</td>\n",
              "      <td>1.5</td>\n",
              "      <td>9.3</td>\n",
              "      <td>0</td>\n",
              "      <td>1</td>\n",
              "    </tr>\n",
              "    <tr>\n",
              "      <th>670</th>\n",
              "      <td>0.005674</td>\n",
              "      <td>0.290266</td>\n",
              "      <td>3</td>\n",
              "      <td>43.3</td>\n",
              "      <td>74.4</td>\n",
              "      <td>495.7265</td>\n",
              "      <td>2.29</td>\n",
              "      <td>83</td>\n",
              "      <td>64</td>\n",
              "      <td>23.2</td>\n",
              "      <td>82</td>\n",
              "      <td>79</td>\n",
              "      <td>9.74</td>\n",
              "      <td>3298</td>\n",
              "      <td>1.88</td>\n",
              "      <td>14.2</td>\n",
              "      <td>14.3</td>\n",
              "      <td>5.8</td>\n",
              "      <td>0</td>\n",
              "      <td>1</td>\n",
              "    </tr>\n",
              "  </tbody>\n",
              "</table>\n",
              "</div>\n",
              "    <div class=\"colab-df-buttons\">\n",
              "\n",
              "  <div class=\"colab-df-container\">\n",
              "    <button class=\"colab-df-convert\" onclick=\"convertToInteractive('df-82b17ef8-fed0-44f2-8b7e-b0788b99650c')\"\n",
              "            title=\"Convert this dataframe to an interactive table.\"\n",
              "            style=\"display:none;\">\n",
              "\n",
              "  <svg xmlns=\"http://www.w3.org/2000/svg\" height=\"24px\" viewBox=\"0 -960 960 960\">\n",
              "    <path d=\"M120-120v-720h720v720H120Zm60-500h600v-160H180v160Zm220 220h160v-160H400v160Zm0 220h160v-160H400v160ZM180-400h160v-160H180v160Zm440 0h160v-160H620v160ZM180-180h160v-160H180v160Zm440 0h160v-160H620v160Z\"/>\n",
              "  </svg>\n",
              "    </button>\n",
              "\n",
              "  <style>\n",
              "    .colab-df-container {\n",
              "      display:flex;\n",
              "      gap: 12px;\n",
              "    }\n",
              "\n",
              "    .colab-df-convert {\n",
              "      background-color: #E8F0FE;\n",
              "      border: none;\n",
              "      border-radius: 50%;\n",
              "      cursor: pointer;\n",
              "      display: none;\n",
              "      fill: #1967D2;\n",
              "      height: 32px;\n",
              "      padding: 0 0 0 0;\n",
              "      width: 32px;\n",
              "    }\n",
              "\n",
              "    .colab-df-convert:hover {\n",
              "      background-color: #E2EBFA;\n",
              "      box-shadow: 0px 1px 2px rgba(60, 64, 67, 0.3), 0px 1px 3px 1px rgba(60, 64, 67, 0.15);\n",
              "      fill: #174EA6;\n",
              "    }\n",
              "\n",
              "    .colab-df-buttons div {\n",
              "      margin-bottom: 4px;\n",
              "    }\n",
              "\n",
              "    [theme=dark] .colab-df-convert {\n",
              "      background-color: #3B4455;\n",
              "      fill: #D2E3FC;\n",
              "    }\n",
              "\n",
              "    [theme=dark] .colab-df-convert:hover {\n",
              "      background-color: #434B5C;\n",
              "      box-shadow: 0px 1px 3px 1px rgba(0, 0, 0, 0.15);\n",
              "      filter: drop-shadow(0px 1px 2px rgba(0, 0, 0, 0.3));\n",
              "      fill: #FFFFFF;\n",
              "    }\n",
              "  </style>\n",
              "\n",
              "    <script>\n",
              "      const buttonEl =\n",
              "        document.querySelector('#df-82b17ef8-fed0-44f2-8b7e-b0788b99650c button.colab-df-convert');\n",
              "      buttonEl.style.display =\n",
              "        google.colab.kernel.accessAllowed ? 'block' : 'none';\n",
              "\n",
              "      async function convertToInteractive(key) {\n",
              "        const element = document.querySelector('#df-82b17ef8-fed0-44f2-8b7e-b0788b99650c');\n",
              "        const dataTable =\n",
              "          await google.colab.kernel.invokeFunction('convertToInteractive',\n",
              "                                                    [key], {});\n",
              "        if (!dataTable) return;\n",
              "\n",
              "        const docLinkHtml = 'Like what you see? Visit the ' +\n",
              "          '<a target=\"_blank\" href=https://colab.research.google.com/notebooks/data_table.ipynb>data table notebook</a>'\n",
              "          + ' to learn more about interactive tables.';\n",
              "        element.innerHTML = '';\n",
              "        dataTable['output_type'] = 'display_data';\n",
              "        await google.colab.output.renderOutput(dataTable, element);\n",
              "        const docLink = document.createElement('div');\n",
              "        docLink.innerHTML = docLinkHtml;\n",
              "        element.appendChild(docLink);\n",
              "      }\n",
              "    </script>\n",
              "  </div>\n",
              "\n",
              "\n",
              "<div id=\"df-c7a97d78-05aa-4397-bac9-45618efb7453\">\n",
              "  <button class=\"colab-df-quickchart\" onclick=\"quickchart('df-c7a97d78-05aa-4397-bac9-45618efb7453')\"\n",
              "            title=\"Suggest charts\"\n",
              "            style=\"display:none;\">\n",
              "\n",
              "<svg xmlns=\"http://www.w3.org/2000/svg\" height=\"24px\"viewBox=\"0 0 24 24\"\n",
              "     width=\"24px\">\n",
              "    <g>\n",
              "        <path d=\"M19 3H5c-1.1 0-2 .9-2 2v14c0 1.1.9 2 2 2h14c1.1 0 2-.9 2-2V5c0-1.1-.9-2-2-2zM9 17H7v-7h2v7zm4 0h-2V7h2v10zm4 0h-2v-4h2v4z\"/>\n",
              "    </g>\n",
              "</svg>\n",
              "  </button>\n",
              "\n",
              "<style>\n",
              "  .colab-df-quickchart {\n",
              "      --bg-color: #E8F0FE;\n",
              "      --fill-color: #1967D2;\n",
              "      --hover-bg-color: #E2EBFA;\n",
              "      --hover-fill-color: #174EA6;\n",
              "      --disabled-fill-color: #AAA;\n",
              "      --disabled-bg-color: #DDD;\n",
              "  }\n",
              "\n",
              "  [theme=dark] .colab-df-quickchart {\n",
              "      --bg-color: #3B4455;\n",
              "      --fill-color: #D2E3FC;\n",
              "      --hover-bg-color: #434B5C;\n",
              "      --hover-fill-color: #FFFFFF;\n",
              "      --disabled-bg-color: #3B4455;\n",
              "      --disabled-fill-color: #666;\n",
              "  }\n",
              "\n",
              "  .colab-df-quickchart {\n",
              "    background-color: var(--bg-color);\n",
              "    border: none;\n",
              "    border-radius: 50%;\n",
              "    cursor: pointer;\n",
              "    display: none;\n",
              "    fill: var(--fill-color);\n",
              "    height: 32px;\n",
              "    padding: 0;\n",
              "    width: 32px;\n",
              "  }\n",
              "\n",
              "  .colab-df-quickchart:hover {\n",
              "    background-color: var(--hover-bg-color);\n",
              "    box-shadow: 0 1px 2px rgba(60, 64, 67, 0.3), 0 1px 3px 1px rgba(60, 64, 67, 0.15);\n",
              "    fill: var(--button-hover-fill-color);\n",
              "  }\n",
              "\n",
              "  .colab-df-quickchart-complete:disabled,\n",
              "  .colab-df-quickchart-complete:disabled:hover {\n",
              "    background-color: var(--disabled-bg-color);\n",
              "    fill: var(--disabled-fill-color);\n",
              "    box-shadow: none;\n",
              "  }\n",
              "\n",
              "  .colab-df-spinner {\n",
              "    border: 2px solid var(--fill-color);\n",
              "    border-color: transparent;\n",
              "    border-bottom-color: var(--fill-color);\n",
              "    animation:\n",
              "      spin 1s steps(1) infinite;\n",
              "  }\n",
              "\n",
              "  @keyframes spin {\n",
              "    0% {\n",
              "      border-color: transparent;\n",
              "      border-bottom-color: var(--fill-color);\n",
              "      border-left-color: var(--fill-color);\n",
              "    }\n",
              "    20% {\n",
              "      border-color: transparent;\n",
              "      border-left-color: var(--fill-color);\n",
              "      border-top-color: var(--fill-color);\n",
              "    }\n",
              "    30% {\n",
              "      border-color: transparent;\n",
              "      border-left-color: var(--fill-color);\n",
              "      border-top-color: var(--fill-color);\n",
              "      border-right-color: var(--fill-color);\n",
              "    }\n",
              "    40% {\n",
              "      border-color: transparent;\n",
              "      border-right-color: var(--fill-color);\n",
              "      border-top-color: var(--fill-color);\n",
              "    }\n",
              "    60% {\n",
              "      border-color: transparent;\n",
              "      border-right-color: var(--fill-color);\n",
              "    }\n",
              "    80% {\n",
              "      border-color: transparent;\n",
              "      border-right-color: var(--fill-color);\n",
              "      border-bottom-color: var(--fill-color);\n",
              "    }\n",
              "    90% {\n",
              "      border-color: transparent;\n",
              "      border-bottom-color: var(--fill-color);\n",
              "    }\n",
              "  }\n",
              "</style>\n",
              "\n",
              "  <script>\n",
              "    async function quickchart(key) {\n",
              "      const quickchartButtonEl =\n",
              "        document.querySelector('#' + key + ' button');\n",
              "      quickchartButtonEl.disabled = true;  // To prevent multiple clicks.\n",
              "      quickchartButtonEl.classList.add('colab-df-spinner');\n",
              "      try {\n",
              "        const charts = await google.colab.kernel.invokeFunction(\n",
              "            'suggestCharts', [key], {});\n",
              "      } catch (error) {\n",
              "        console.error('Error during call to suggestCharts:', error);\n",
              "      }\n",
              "      quickchartButtonEl.classList.remove('colab-df-spinner');\n",
              "      quickchartButtonEl.classList.add('colab-df-quickchart-complete');\n",
              "    }\n",
              "    (() => {\n",
              "      let quickchartButtonEl =\n",
              "        document.querySelector('#df-c7a97d78-05aa-4397-bac9-45618efb7453 button');\n",
              "      quickchartButtonEl.style.display =\n",
              "        google.colab.kernel.accessAllowed ? 'block' : 'none';\n",
              "    })();\n",
              "  </script>\n",
              "</div>\n",
              "    </div>\n",
              "  </div>\n"
            ]
          },
          "metadata": {},
          "execution_count": 38
        }
      ]
    },
    {
      "cell_type": "code",
      "source": [
        "from sklearn.preprocessing import RobustScaler\n",
        "\n",
        "scaler = RobustScaler()\n",
        "columns_to_scale = ['Adult_mortality', 'GDP_per_capita', 'Population_mln','Infant_deaths','Under_five_deaths','Hepatitis_B','Measles']\n",
        "x_train[columns_to_scale] = scaler.fit_transform(x_train[columns_to_scale])\n",
        "x_test[columns_to_scale] = scaler.transform(x_test[columns_to_scale])"
      ],
      "metadata": {
        "id": "PD_EPt9-19bF"
      },
      "id": "PD_EPt9-19bF",
      "execution_count": 39,
      "outputs": []
    },
    {
      "cell_type": "markdown",
      "source": [
        "### Bagging after Scaling"
      ],
      "metadata": {
        "id": "tLA36aJjK00D"
      },
      "id": "tLA36aJjK00D"
    },
    {
      "cell_type": "code",
      "source": [
        "from sklearn.svm import SVC\n",
        "from sklearn.tree import DecisionTreeClassifier\n",
        "from sklearn.ensemble import BaggingRegressor\n",
        "import warnings\n",
        "warnings.filterwarnings('ignore')\n",
        "\n",
        "Bagging_class = BaggingRegressor(oob_score = True)\n",
        "Bagging_class.fit(x_train, y_train)"
      ],
      "metadata": {
        "colab": {
          "base_uri": "https://localhost:8080/",
          "height": 74
        },
        "id": "FZbmFF9BK0gz",
        "outputId": "2d2dacd3-66bd-4cbf-a693-aafbb526c61c"
      },
      "id": "FZbmFF9BK0gz",
      "execution_count": 40,
      "outputs": [
        {
          "output_type": "execute_result",
          "data": {
            "text/plain": [
              "BaggingRegressor(oob_score=True)"
            ],
            "text/html": [
              "<style>#sk-container-id-2 {color: black;background-color: white;}#sk-container-id-2 pre{padding: 0;}#sk-container-id-2 div.sk-toggleable {background-color: white;}#sk-container-id-2 label.sk-toggleable__label {cursor: pointer;display: block;width: 100%;margin-bottom: 0;padding: 0.3em;box-sizing: border-box;text-align: center;}#sk-container-id-2 label.sk-toggleable__label-arrow:before {content: \"▸\";float: left;margin-right: 0.25em;color: #696969;}#sk-container-id-2 label.sk-toggleable__label-arrow:hover:before {color: black;}#sk-container-id-2 div.sk-estimator:hover label.sk-toggleable__label-arrow:before {color: black;}#sk-container-id-2 div.sk-toggleable__content {max-height: 0;max-width: 0;overflow: hidden;text-align: left;background-color: #f0f8ff;}#sk-container-id-2 div.sk-toggleable__content pre {margin: 0.2em;color: black;border-radius: 0.25em;background-color: #f0f8ff;}#sk-container-id-2 input.sk-toggleable__control:checked~div.sk-toggleable__content {max-height: 200px;max-width: 100%;overflow: auto;}#sk-container-id-2 input.sk-toggleable__control:checked~label.sk-toggleable__label-arrow:before {content: \"▾\";}#sk-container-id-2 div.sk-estimator input.sk-toggleable__control:checked~label.sk-toggleable__label {background-color: #d4ebff;}#sk-container-id-2 div.sk-label input.sk-toggleable__control:checked~label.sk-toggleable__label {background-color: #d4ebff;}#sk-container-id-2 input.sk-hidden--visually {border: 0;clip: rect(1px 1px 1px 1px);clip: rect(1px, 1px, 1px, 1px);height: 1px;margin: -1px;overflow: hidden;padding: 0;position: absolute;width: 1px;}#sk-container-id-2 div.sk-estimator {font-family: monospace;background-color: #f0f8ff;border: 1px dotted black;border-radius: 0.25em;box-sizing: border-box;margin-bottom: 0.5em;}#sk-container-id-2 div.sk-estimator:hover {background-color: #d4ebff;}#sk-container-id-2 div.sk-parallel-item::after {content: \"\";width: 100%;border-bottom: 1px solid gray;flex-grow: 1;}#sk-container-id-2 div.sk-label:hover label.sk-toggleable__label {background-color: #d4ebff;}#sk-container-id-2 div.sk-serial::before {content: \"\";position: absolute;border-left: 1px solid gray;box-sizing: border-box;top: 0;bottom: 0;left: 50%;z-index: 0;}#sk-container-id-2 div.sk-serial {display: flex;flex-direction: column;align-items: center;background-color: white;padding-right: 0.2em;padding-left: 0.2em;position: relative;}#sk-container-id-2 div.sk-item {position: relative;z-index: 1;}#sk-container-id-2 div.sk-parallel {display: flex;align-items: stretch;justify-content: center;background-color: white;position: relative;}#sk-container-id-2 div.sk-item::before, #sk-container-id-2 div.sk-parallel-item::before {content: \"\";position: absolute;border-left: 1px solid gray;box-sizing: border-box;top: 0;bottom: 0;left: 50%;z-index: -1;}#sk-container-id-2 div.sk-parallel-item {display: flex;flex-direction: column;z-index: 1;position: relative;background-color: white;}#sk-container-id-2 div.sk-parallel-item:first-child::after {align-self: flex-end;width: 50%;}#sk-container-id-2 div.sk-parallel-item:last-child::after {align-self: flex-start;width: 50%;}#sk-container-id-2 div.sk-parallel-item:only-child::after {width: 0;}#sk-container-id-2 div.sk-dashed-wrapped {border: 1px dashed gray;margin: 0 0.4em 0.5em 0.4em;box-sizing: border-box;padding-bottom: 0.4em;background-color: white;}#sk-container-id-2 div.sk-label label {font-family: monospace;font-weight: bold;display: inline-block;line-height: 1.2em;}#sk-container-id-2 div.sk-label-container {text-align: center;}#sk-container-id-2 div.sk-container {/* jupyter's `normalize.less` sets `[hidden] { display: none; }` but bootstrap.min.css set `[hidden] { display: none !important; }` so we also need the `!important` here to be able to override the default hidden behavior on the sphinx rendered scikit-learn.org. See: https://github.com/scikit-learn/scikit-learn/issues/21755 */display: inline-block !important;position: relative;}#sk-container-id-2 div.sk-text-repr-fallback {display: none;}</style><div id=\"sk-container-id-2\" class=\"sk-top-container\"><div class=\"sk-text-repr-fallback\"><pre>BaggingRegressor(oob_score=True)</pre><b>In a Jupyter environment, please rerun this cell to show the HTML representation or trust the notebook. <br />On GitHub, the HTML representation is unable to render, please try loading this page with nbviewer.org.</b></div><div class=\"sk-container\" hidden><div class=\"sk-item\"><div class=\"sk-estimator sk-toggleable\"><input class=\"sk-toggleable__control sk-hidden--visually\" id=\"sk-estimator-id-2\" type=\"checkbox\" checked><label for=\"sk-estimator-id-2\" class=\"sk-toggleable__label sk-toggleable__label-arrow\">BaggingRegressor</label><div class=\"sk-toggleable__content\"><pre>BaggingRegressor(oob_score=True)</pre></div></div></div></div></div>"
            ]
          },
          "metadata": {},
          "execution_count": 40
        }
      ]
    },
    {
      "cell_type": "code",
      "source": [
        "Bagging_class.oob_score_"
      ],
      "metadata": {
        "colab": {
          "base_uri": "https://localhost:8080/"
        },
        "id": "GVEn7XacK8a_",
        "outputId": "680001d7-d80b-4dbc-eec5-0aa07841184b"
      },
      "id": "GVEn7XacK8a_",
      "execution_count": 41,
      "outputs": [
        {
          "output_type": "execute_result",
          "data": {
            "text/plain": [
              "0.47792875121484835"
            ]
          },
          "metadata": {},
          "execution_count": 41
        }
      ]
    },
    {
      "cell_type": "code",
      "source": [
        "y_predict=Bagging_class.predict(x_test)"
      ],
      "metadata": {
        "id": "XVb2YjgiK_h2"
      },
      "id": "XVb2YjgiK_h2",
      "execution_count": 42,
      "outputs": []
    },
    {
      "cell_type": "code",
      "source": [
        "y_train_predict = Bagging_class.predict(x_train)"
      ],
      "metadata": {
        "id": "Lr2nngKELDBd"
      },
      "id": "Lr2nngKELDBd",
      "execution_count": 43,
      "outputs": []
    },
    {
      "cell_type": "code",
      "source": [
        "print('MAE Test =',mean_absolute_error(y_test, y_predict))\n",
        "print('MSE Test =',mean_squared_error(y_test, y_predict))\n",
        "print('R squared Test =',r2_score(y_test, y_predict))"
      ],
      "metadata": {
        "colab": {
          "base_uri": "https://localhost:8080/"
        },
        "id": "ASGfivSGLFUz",
        "outputId": "2b420829-bc69-48a2-c05e-889061b30aca"
      },
      "id": "ASGfivSGLFUz",
      "execution_count": 44,
      "outputs": [
        {
          "output_type": "stream",
          "name": "stdout",
          "text": [
            "MAE Test = 0.49094240837696274\n",
            "MSE Test = 0.46372897033158755\n",
            "R squared Test = 0.9944123117996861\n"
          ]
        }
      ]
    },
    {
      "cell_type": "code",
      "source": [
        "print('MAE Train =',mean_absolute_error(y_train, y_train_predict))\n",
        "print('MSE Train =',mean_squared_error(y_train, y_train_predict))\n",
        "print('R squared Train =',r2_score(y_train, y_train_predict))"
      ],
      "metadata": {
        "colab": {
          "base_uri": "https://localhost:8080/"
        },
        "id": "JrnAzH2dLJK8",
        "outputId": "b82a8198-8f55-48cb-9c4d-4e7d2f40581d"
      },
      "id": "JrnAzH2dLJK8",
      "execution_count": 45,
      "outputs": [
        {
          "output_type": "stream",
          "name": "stdout",
          "text": [
            "MAE Train = 0.17359668267132297\n",
            "MSE Train = 0.07380257529463112\n",
            "R squared Train = 0.999177949695874\n"
          ]
        }
      ]
    },
    {
      "cell_type": "code",
      "source": [
        "from sklearn.metrics import PredictionErrorDisplay\n",
        "disp = PredictionErrorDisplay.from_predictions(y_test, y_predict, kind = 'actual_vs_predicted')\n",
        "plt.show()"
      ],
      "metadata": {
        "colab": {
          "base_uri": "https://localhost:8080/",
          "height": 449
        },
        "id": "F6QdiGIy2BlB",
        "outputId": "24ccc330-c015-40e0-8da7-73133156c292"
      },
      "id": "F6QdiGIy2BlB",
      "execution_count": 46,
      "outputs": [
        {
          "output_type": "display_data",
          "data": {
            "text/plain": [
              "<Figure size 640x480 with 1 Axes>"
            ],
            "image/png": "[encoded data removed]"
          },
          "metadata": {}
        }
      ]
    }
  ],
  "metadata": {
    "kernelspec": {
      "display_name": "Python 3 (ipykernel)",
      "language": "python",
      "name": "python3"
    },
    "language_info": {
      "codemirror_mode": {
        "name": "ipython",
        "version": 3
      },
      "file_extension": ".py",
      "mimetype": "text/x-python",
      "name": "python",
      "nbconvert_exporter": "python",
      "pygments_lexer": "ipython3",
      "version": "3.9.12"
    },
    "colab": {
      "provenance": []
    }
  },
  "nbformat": 4,
  "nbformat_minor": 5
}